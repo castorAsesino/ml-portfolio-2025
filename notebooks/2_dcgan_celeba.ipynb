{
 "cells": [
  {
   "cell_type": "markdown",
   "id": "0477bb0b",
   "metadata": {},
   "source": [
    "# DCGAN con CelebA (caras) — Ejercicio 2\n",
    "\n",
    "- Generación de imágenes con **DCGAN** usando **CelebA**.\n",
    "- Guarda muestras, curvas de pérdidas y actualiza `results/summary.csv`.\n",
    "- (Opcional) Calcula **FID** si hay acceso a los pesos de InceptionV3."
   ]
  },
  {
   "cell_type": "code",
   "execution_count": null,
   "id": "44120927",
   "metadata": {},
   "outputs": [
    {
     "ename": "ModuleNotFoundError",
     "evalue": "No module named 'data'",
     "output_type": "error",
     "traceback": [
      "\u001b[1;31m---------------------------------------------------------------------------\u001b[0m",
      "\u001b[1;31mModuleNotFoundError\u001b[0m                       Traceback (most recent call last)",
      "Cell \u001b[1;32mIn[1], line 4\u001b[0m\n\u001b[0;32m      1\u001b[0m \u001b[38;5;66;03m# === Imports y setup ===\u001b[39;00m\n\u001b[0;32m      2\u001b[0m \u001b[38;5;28;01mimport\u001b[39;00m\u001b[38;5;250m \u001b[39m\u001b[38;5;21;01mos\u001b[39;00m\u001b[38;5;241m,\u001b[39m\u001b[38;5;250m \u001b[39m\u001b[38;5;21;01mtime\u001b[39;00m\u001b[38;5;241m,\u001b[39m\u001b[38;5;250m \u001b[39m\u001b[38;5;21;01mnumpy\u001b[39;00m\u001b[38;5;250m \u001b[39m\u001b[38;5;28;01mas\u001b[39;00m\u001b[38;5;250m \u001b[39m\u001b[38;5;21;01mnp\u001b[39;00m\u001b[38;5;241m,\u001b[39m\u001b[38;5;250m \u001b[39m\u001b[38;5;21;01mtensorflow\u001b[39;00m\u001b[38;5;250m \u001b[39m\u001b[38;5;28;01mas\u001b[39;00m\u001b[38;5;250m \u001b[39m\u001b[38;5;21;01mtf\u001b[39;00m\n\u001b[1;32m----> 4\u001b[0m \u001b[38;5;28;01mfrom\u001b[39;00m\u001b[38;5;250m \u001b[39m\u001b[38;5;21;01mdata\u001b[39;00m\u001b[38;5;250m \u001b[39m\u001b[38;5;28;01mimport\u001b[39;00m GANCelebAData\n\u001b[0;32m      5\u001b[0m \u001b[38;5;28;01mfrom\u001b[39;00m\u001b[38;5;250m \u001b[39m\u001b[38;5;21;01mmodels\u001b[39;00m\u001b[38;5;250m \u001b[39m\u001b[38;5;28;01mimport\u001b[39;00m build_dcgan_generator, build_dcgan_discriminator, build_dcgan_gan\n\u001b[0;32m      6\u001b[0m \u001b[38;5;28;01mfrom\u001b[39;00m\u001b[38;5;250m \u001b[39m\u001b[38;5;21;01mtrain\u001b[39;00m\u001b[38;5;250m \u001b[39m\u001b[38;5;28;01mimport\u001b[39;00m DCGANTrainer\n",
      "\u001b[1;31mModuleNotFoundError\u001b[0m: No module named 'data'"
     ]
    }
   ],
   "source": [
    "\n",
    "# === Imports y setup ===\n",
    "import os, time, numpy as np, tensorflow as tf\n",
    "\n",
    "from data import GANCelebAData\n",
    "from models import build_dcgan_generator, build_dcgan_discriminator, build_dcgan_gan\n",
    "from train import DCGANTrainer\n",
    "from utils import (\n",
    "    plot_gan_training_history, save_gan_results,\n",
    "    generate_final_gan_samples, update_summary_csv, calculate_fid,\n",
    ")\n",
    "\n",
    "NOTEBOOK = \"2_dcgan_celeba\"\n",
    "MODEL_NAME = \"DCGAN(CelebA-64)\"\n",
    "LATENT_DIM = 100\n",
    "\n",
    "# Cambiá este path a donde tengas las imágenes de CelebA (por ejemplo: \"/data/celeba/img_align_celeba\")\n",
    "CELEBA_DIR = r\"./assets/img_align_celeba\"\n",
    "assert os.path.exists(CELEBA_DIR), \"Asegúrate de apuntar CELEBA_DIR a la carpeta con las imágenes de CelebA\"\n",
    "\n",
    "# Dataset real (CelebA) → 64x64, [-1,1]\n",
    "data_loader = GANCelebAData(dataset_dir=CELEBA_DIR, image_size=64, batch_size=64, take=50000)\n",
    "dataset = data_loader.create_dataset()\n",
    "# (opcional) ver muestras reales:\n",
    "# data_loader.show_sample()\n"
   ]
  },
  {
   "cell_type": "code",
   "execution_count": null,
   "id": "2340df92",
   "metadata": {},
   "outputs": [],
   "source": [
    "\n",
    "# === Construcción de modelos DCGAN ===\n",
    "generator = build_dcgan_generator(latent_dim=LATENT_DIM)\n",
    "discriminator = build_dcgan_discriminator(image_size=64)\n",
    "gan = build_dcgan_gan(generator, discriminator)\n",
    "\n",
    "trainer = DCGANTrainer(generator, discriminator, gan, latent_dim=LATENT_DIM)\n",
    "trainer.compile_models(learning_rate=0.0002)\n"
   ]
  },
  {
   "cell_type": "code",
   "execution_count": null,
   "id": "7622c9f6",
   "metadata": {},
   "outputs": [],
   "source": [
    "\n",
    "# === Entrenamiento ===\n",
    "history, train_time = trainer.train(\n",
    "    dataset,\n",
    "    epochs=50,            # ajusta según tus recursos\n",
    "    save_interval=10,\n",
    "    notebook_name=NOTEBOOK\n",
    ")\n",
    "\n",
    "# Curvas de entrenamiento\n",
    "plot_gan_training_history(history, notebook_name=NOTEBOOK, model_name=MODEL_NAME)\n"
   ]
  },
  {
   "cell_type": "code",
   "execution_count": null,
   "id": "95e35264",
   "metadata": {},
   "outputs": [],
   "source": [
    "\n",
    "# === Generación de muestras y guardado del generador ===\n",
    "generate_final_gan_samples(generator, LATENT_DIM, notebook_name=NOTEBOOK, num_samples=25)\n"
   ]
  },
  {
   "cell_type": "code",
   "execution_count": null,
   "id": "137ac788",
   "metadata": {},
   "outputs": [],
   "source": [
    "\n",
    "# === Guardar resultados del entrenamiento de la GAN ===\n",
    "model_params = generator.count_params() + discriminator.count_params()\n",
    "results = save_gan_results(\n",
    "    history=history,\n",
    "    training_time=float(train_time),\n",
    "    model_name=MODEL_NAME,\n",
    "    notebook_name=NOTEBOOK,\n",
    "    epochs=len(history[\"d_loss\"]),\n",
    "    model_params=int(model_params),\n",
    ")\n"
   ]
  },
  {
   "cell_type": "code",
   "execution_count": null,
   "id": "b863ed4f",
   "metadata": {},
   "outputs": [],
   "source": [
    "\n",
    "# === (Opcional) FID si hay pesos de InceptionV3 disponibles ===\n",
    "def _gather_real_images(ds, n=500):\n",
    "    xs = []\n",
    "    for batch in ds:\n",
    "        xs.append(batch.numpy())\n",
    "        if sum(len(b) for b in xs) >= n:\n",
    "            break\n",
    "    X = np.concatenate(xs, axis=0)[:n]\n",
    "    return X\n",
    "\n",
    "def _sample_generated(G, zdim, n=500):\n",
    "    z = tf.random.normal([n, zdim])\n",
    "    fake = G(z, training=False).numpy()\n",
    "    return fake\n",
    "\n",
    "try:\n",
    "    n_fid = 500\n",
    "    real_imgs = _gather_real_images(dataset, n=n_fid)\n",
    "    fake_imgs = _sample_generated(generator, LATENT_DIM, n=n_fid)\n",
    "\n",
    "    fid_score = float(calculate_fid(real_imgs, fake_imgs, image_size=299))\n",
    "    print(f\"FID = {fid_score:.2f}\")\n",
    "    results[\"FID_score\"] = fid_score\n",
    "except Exception as e:\n",
    "    print(\"No se pudo calcular FID (probablemente sin pesos de InceptionV3 o sin internet).\")\n",
    "    print(\"Detalle:\", repr(e))\n",
    "    results[\"FID_score\"] = \"N/A\"\n",
    "\n",
    "update_summary_csv(results, file_path=\"../results/summary.csv\")\n"
   ]
  }
 ],
 "metadata": {
  "kernelspec": {
   "display_name": "ml-portfolio-env",
   "language": "python",
   "name": "python3"
  },
  "language_info": {
   "codemirror_mode": {
    "name": "ipython",
    "version": 3
   },
   "file_extension": ".py",
   "mimetype": "text/x-python",
   "name": "python",
   "nbconvert_exporter": "python",
   "pygments_lexer": "ipython3",
   "version": "3.10.1"
  }
 },
 "nbformat": 4,
 "nbformat_minor": 5
}
