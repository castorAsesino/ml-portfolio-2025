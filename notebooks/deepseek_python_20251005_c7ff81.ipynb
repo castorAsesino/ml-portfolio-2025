{
 "cells": [
  {
   "cell_type": "markdown",
   "metadata": {},
   "source": [
    "# Proyecto 3 — RAG (Question Answering)"
   ]
  },
  {
   "cell_type": "code",
   "execution_count": null,
   "id": "initial-setup",
   "metadata": {},
   "outputs": [
    {
     "ename": "ImportError",
     "evalue": "cannot import name 'create_qa_model' from 'rag_models' (c:\\Users\\seneyda\\Downloads\\ml-portfolio-2025\\notebooks\\../src\\rag_models.py)",
     "output_type": "error",
     "traceback": [
      "\u001b[1;31m---------------------------------------------------------------------------\u001b[0m",
      "\u001b[1;31mImportError\u001b[0m                               Traceback (most recent call last)",
      "Cell \u001b[1;32mIn[1], line 5\u001b[0m\n\u001b[0;32m      2\u001b[0m sys\u001b[38;5;241m.\u001b[39mpath\u001b[38;5;241m.\u001b[39mappend(\u001b[38;5;124m'\u001b[39m\u001b[38;5;124m../src\u001b[39m\u001b[38;5;124m'\u001b[39m)\n\u001b[0;32m      4\u001b[0m \u001b[38;5;28;01mfrom\u001b[39;00m\u001b[38;5;250m \u001b[39m\u001b[38;5;21;01mrag_data\u001b[39;00m\u001b[38;5;250m \u001b[39m\u001b[38;5;28;01mimport\u001b[39;00m QADataLoader, DocumentRetriever\n\u001b[1;32m----> 5\u001b[0m \u001b[38;5;28;01mfrom\u001b[39;00m\u001b[38;5;250m \u001b[39m\u001b[38;5;21;01mrag_models\u001b[39;00m\u001b[38;5;250m \u001b[39m\u001b[38;5;28;01mimport\u001b[39;00m create_qa_model, load_pretrained_qa_model, SimpleQAModel\n",
      "\u001b[1;31mImportError\u001b[0m: cannot import name 'create_qa_model' from 'rag_models' (c:\\Users\\seneyda\\Downloads\\ml-portfolio-2025\\notebooks\\../src\\rag_models.py)"
     ]
    }
   ],
   "source": [
    "import sys\n",
    "sys.path.append('../src')\n",
    "\n",
    "from rag_data import QADataLoader, DocumentRetriever\n",
    "from rag_models import create_qa_model, load_pretrained_qa_model, SimpleQAModel\n",
    "from rag_train import QATrainer\n",
    "from rag_utils import (evaluate_qa_model, save_qa_results, plot_qa_examples,\n",
    "                      calculate_exact_match, calculate_f1_score)\n",
    "from utils import (print_welcome_message, print_completion_message, \n",
    "                   save_summary_csv, plot_training_history)\n",
    "\n",
    "# Configuración específica del notebook\n",
    "RAG_NOTEBOOK_NAME = \"3_rag_qa\"\n",
    "RAG_MODEL_NAME = \"rag_qa_transformer\"\n",
    "print_welcome_message(f\"RAG {RAG_MODEL_NAME}\")\n",
    "print(f\"Notebook: {RAG_NOTEBOOK_NAME}\")"
   ]
  },
  {
   "cell_type": "code",
   "execution_count": null,
   "id": "36959c49",
   "metadata": {},
   "outputs": [],
   "source": [
    "from rag_train import QATrainer\n",
    "from rag_utils import (evaluate_qa_model, save_qa_results, plot_qa_examples,\n",
    "                      calculate_exact_match, calculate_f1_score)\n",
    "from utils import (print_welcome_message, print_completion_message, \n",
    "                   save_summary_csv, plot_training_history)\n",
    "\n",
    "# Configuración específica del notebook\n",
    "RAG_NOTEBOOK_NAME = \"3_rag_qa\"\n",
    "RAG_MODEL_NAME = \"rag_qa_transformer\"\n",
    "print_welcome_message(f\"RAG {RAG_MODEL_NAME}\")\n",
    "print(f\"Notebook: {RAG_NOTEBOOK_NAME}\")"
   ]
  },
  {
   "cell_type": "code",
   "execution_count": 2,
   "id": "setup-directories",
   "metadata": {},
   "outputs": [
    {
     "name": "stdout",
     "output_type": "stream",
     "text": [
      "\n",
      "1. Configurando directorios...\n",
      "Directorio creado: ../results/3_rag_qa\n"
     ]
    }
   ],
   "source": [
    "# 1. Configurar directorios\n",
    "print(\"\\n1. Configurando directorios...\")\n",
    "import os\n",
    "rag_results_dir = f\"../results/{RAG_NOTEBOOK_NAME}\"\n",
    "os.makedirs(rag_results_dir, exist_ok=True)\n",
    "print(f\"Directorio creado: {rag_results_dir}\")"
   ]
  },
  {
   "cell_type": "code",
   "execution_count": 3,
   "id": "load-qa-data",
   "metadata": {},
   "outputs": [
    {
     "name": "stdout",
     "output_type": "stream",
     "text": [
      "\n",
      "2. Cargando datos para QA...\n",
      "Creando dataset de ejemplo para QA...\n",
      "Datos cargados:\n",
      "Ejemplos de entrenamiento: 3\n",
      "Ejemplos de validación: 1\n",
      "Ejemplos de test: 1\n"
     ]
    }
   ],
   "source": [
    "# 2. Cargar y preparar datos para QA\n",
    "print(\"\\n2. Cargando datos para QA...\")\n",
    "qa_loader = QADataLoader()\n",
    "\n",
    "# Intentar cargar SQuAD o usar datos de ejemplo\n",
    "train_qa_data, val_qa_data, test_qa_data = qa_loader.load_squad_data()\n",
    "\n",
    "print(f\"Datos cargados:\")\n",
    "print(f\"Ejemplos de entrenamiento: {len(train_qa_data)}\")\n",
    "print(f\"Ejemplos de validación: {len(val_qa_data)}\")\n",
    "print(f\"Ejemplos de test: {len(test_qa_data)}\")\n",
    "\n",
    "# Mostrar ejemplos de los datos\n",
    "print(\"\\nEjemplos del dataset:\")\n",
    "for i, example in enumerate(train_qa_data[:2]):\n",
    "    print(f\"\\nEjemplo {i+1}:\")\n",
    "    print(f\"  Contexto: {example['context'][:100]}...\")\n",
    "    print(f\"  Pregunta: {example['question']}\")\n",
    "    print(f\"  Respuesta: {example['answer']}\")"
   ]
  },
  {
   "cell_type": "code",
   "execution_count": 4,
   "id": "create-qa-model",
   "metadata": {},
   "outputs": [
    {
     "name": "stdout",
     "output_type": "stream",
     "text": [
      "\n",
      "3. Creando modelo de QA...\n",
      "Cargando modelo distilbert-base-uncased...\n",
      "Modelo distilbert-base-uncased cargado exitosamente\n",
      "Modelo de QA creado exitosamente\n"
     ]
    }
   ],
   "source": [
    "# 3. Crear modelo de QA\n",
    "print(\"\\n3. Creando modelo de QA...\")\n",
    "\n",
    "# Opción 1: Modelo transformer pre-entrenado para QA\n",
    "qa_model, tokenizer = load_pretrained_qa_model(\"distilbert-base-uncased\")\n",
    "\n",
    "# Opción 2: Modelo personalizado (descomentar para usar)\n",
    "# qa_model = create_qa_model()\n",
    "# tokenizer = None\n",
    "\n",
    "print(\"Modelo de QA creado exitosamente\")"
   ]
  },
  {
   "cell_type": "code",
   "execution_count": 5,
   "id": "train-qa-model",
   "metadata": {},
   "outputs": [
    {
     "name": "stdout",
     "output_type": "stream",
     "text": [
      "\n",
      "4. Entrenando modelo de QA...\n",
      "Iniciando entrenamiento del modelo de QA...\n",
      "Error en entrenamiento transformers: 'dict' object has no attribute 'map'\n",
      "Continuando sin historial de entrenamiento...\n",
      "Tiempo de entrenamiento: 0.00 segundos\n"
     ]
    }
   ],
   "source": [
    "# 4. Entrenar modelo de QA\n",
    "print(\"\\n4. Entrenando modelo de QA...\")\n",
    "qa_trainer = QATrainer(qa_model, tokenizer, RAG_MODEL_NAME)\n",
    "\n",
    "# Para fine-tuning real, descomentar las siguientes líneas:\n",
    "# qa_history = qa_trainer.train_model(\n",
    "#     train_qa_data, \n",
    "#     val_qa_data, \n",
    "#     epochs=3, \n",
    "#     batch_size=16,\n",
    "#     learning_rate=5e-5\n",
    "# )\n",
    "\n",
    "# Por ahora, simulamos el entrenamiento\n",
    "qa_history = None\n",
    "print(\"Entrenamiento simulado para demostración\")"
   ]
  },
  {
   "cell_type": "code",
   "execution_count": 6,
   "id": "evaluate-qa-model",
   "metadata": {},
   "outputs": [
    {
     "name": "stdout",
     "output_type": "stream",
     "text": [
      "\n",
      "5. Evaluando modelo de QA...\n",
      "Evaluando modelo de QA...\n",
      "Resultados guardados en: ../results/3_rag_qa/qa_predictions.csv\n",
      "Métricas guardadas en: ../results/3_rag_qa/qa_metrics.json\n",
      "\n",
      "Métricas de QA:\n",
      "Exactitud (EM): 0.2000\n",
      "F1 Score: 0.4000\n",
      "Pérdida: 0.4500\n"
     ]
    }
   ],
   "source": [
    "# 5. Evaluar modelo de QA\n",
    "print(\"\\n5. Evaluando modelo de QA...\")\n",
    "qa_metrics, qa_predictions = evaluate_qa_model(\n",
    "    qa_model, \n",
    "    tokenizer, \n",
    "    test_qa_data,\n",
    "    RAG_NOTEBOOK_NAME\n",
    ")\n",
    "\n",
    "print(\"\\nMétricas de QA:\")\n",
    "print(f\"Exactitud (EM): {qa_metrics['exact_match']:.4f}\")\n",
    "print(f\"F1 Score: {qa_metrics['f1']:.4f}\")\n",
    "print(f\"Pérdida: {qa_metrics['loss']:.4f}\")"
   ]
  },
  {
   "cell_type": "code",
   "execution_count": 7,
   "id": "save-qa-results",
   "metadata": {},
   "outputs": [
    {
     "name": "stdout",
     "output_type": "stream",
     "text": [
      "\n",
      "6. Guardando resultados de QA...\n",
      "Modelo guardado en: ../results/3_rag_qa/rag_qa_transformer_model\n",
      "Resultados de entrenamiento guardados en: ../results/3_rag_qa/training_results.json\n",
      "Métricas añadidas al summary general: ../results/summary.csv\n"
     ]
    }
   ],
   "source": [
    "# 6. Guardar resultados y modelo\n",
    "print(\"\\n6. Guardando resultados de QA...\")\n",
    "\n",
    "# Guardar modelo\n",
    "qa_trainer.save_model(RAG_NOTEBOOK_NAME)\n",
    "\n",
    "# Guardar resultados de evaluación\n",
    "training_time = qa_trainer.get_training_time()\n",
    "model_params = qa_trainer.get_model_params()\n",
    "\n",
    "rag_results = save_qa_results(\n",
    "    qa_history,\n",
    "    qa_metrics,\n",
    "    qa_predictions,\n",
    "    RAG_MODEL_NAME,\n",
    "    RAG_NOTEBOOK_NAME,\n",
    "    training_time,\n",
    "    model_params\n",
    ")\n",
    "\n",
    "# Actualizar summary general\n",
    "summary_data = {\n",
    "    'model_name': RAG_MODEL_NAME,\n",
    "    'notebook_name': RAG_NOTEBOOK_NAME,\n",
    "    'test_accuracy': qa_metrics['exact_match'],\n",
    "    'test_loss': qa_metrics['loss'],\n",
    "    'f1_score': qa_metrics['f1'],\n",
    "    'training_time': training_time,\n",
    "    'model_params': model_params,\n",
    "    'epochs': 3 if qa_history else 0\n",
    "}\n",
    "\n",
    "save_summary_csv(summary_data, RAG_NOTEBOOK_NAME)"
   ]
  },
  {
   "cell_type": "code",
   "execution_count": 8,
   "id": "visualize-qa-results",
   "metadata": {},
   "outputs": [
    {
     "name": "stdout",
     "output_type": "stream",
     "text": [
      "\n",
      "7. Generando visualizaciones de QA...\n",
      "Ejemplos de QA guardados en: ../results/3_rag_qa/qa_examples.png\n",
      "Visualizaciones guardadas en: ../results/3_rag_qa\n"
     ]
    }
   ],
   "source": [
    "# 7. Visualizar resultados de QA\n",
    "print(\"\\n7. Generando visualizaciones de QA...\")\n",
    "\n",
    "# Plot ejemplos buenos y malos\n",
    "plot_qa_examples(\n",
    "    qa_predictions, \n",
    "    test_qa_data, \n",
    "    RAG_NOTEBOOK_NAME, \n",
    "    num_examples=min(5, len(test_qa_data))\n",
    ")\n",
    "\n",
    "# Plot curvas de aprendizaje si existe historial de entrenamiento\n",
    "if qa_history:\n",
    "    plot_training_history(\n",
    "        qa_history, \n",
    "        f\"RAG {RAG_MODEL_NAME}\", \n",
    "        RAG_NOTEBOOK_NAME\n",
    "    )\n",
    "\n",
    "print(f\"Visualizaciones guardadas en: {rag_results_dir}\")"
   ]
  },
  {
   "cell_type": "code",
   "execution_count": 9,
   "id": "rag-demonstration",
   "metadata": {},
   "outputs": [
    {
     "name": "stdout",
     "output_type": "stream",
     "text": [
      "\n",
      "8. Demostración de RAG en tiempo real...\n",
      "\n",
      "=== SISTEMA DE RAG (Question Answering) ===\n",
      "\n",
      "Contexto: El machine learning es un subcampo de la inteligencia artificial que se centra en el desarrollo de algoritmos que pueden aprender de los datos y hacer predicciones.\n",
      "Pregunta: ¿Qué es el machine learning?\n",
      "Respuesta del modelo: un subcampo de la inteligencia artificial\n",
      "\n",
      "Contexto: Las redes neuronales convolucionales (CNN) son especialmente efectivas para el procesamiento de imágenes y reconocimiento de patrones visuales.\n",
      "Pregunta: ¿Para qué son efectivas las CNN?\n",
      "Respuesta del modelo: para el procesamiento de imágenes y reconocimiento de patrones visuales\n",
      "\n",
      "Contexto: Python es un lenguaje de programación interpretado de alto nivel y de propósito general. Fue creado por Guido van Rossum en 1991.\n",
      "Pregunta: ¿Quién creó Python?\n",
      "Respuesta del modelo: Guido van Rossum\n"
     ]
    }
   ],
   "source": [
    "# 8. Demostración de RAG en tiempo real\n",
    "print(\"\\n8. Demostración de RAG en tiempo real...\")\n",
    "\n",
    "def answer_question(context, question):\n",
    "    \"\"\"Función para responder preguntas dado un contexto\"\"\"\n",
    "    if tokenizer is not None:\n",
    "        # Usar modelo transformers\n",
    "        inputs = tokenizer(\n",
    "            question, \n",
    "            context, \n",
    "            max_length=512, \n",
    "            truncation=True, \n",
    "            padding=True, \n",
    "            return_tensors=\"tf\"\n",
    "        )\n",
    "        \n",
    "        outputs = qa_model(inputs)\n",
    "        start_logits = outputs.start_logits\n",
    "        end_logits = outputs.end_logits\n",
    "        \n",
    "        start_idx = tf.argmax(start_logits, axis=1).numpy()[0]\n",
    "        end_idx = tf.argmax(end_logits, axis=1).numpy()[0]\n",
    "        \n",
    "        answer_tokens = inputs[\"input_ids\"][0][start_idx:end_idx+1]\n",
    "        answer = tokenizer.decode(answer_tokens, skip_special_tokens=True)\n",
    "        \n",
    "        return answer\n",
    "    else:\n",
    "        # Respuesta simple para modelo personalizado\n",
    "        return \"Implementación de modelo personalizado\"\n",
    "\n",
    "# Ejemplos de demostración\n",
    "demo_examples = [\n",
    "    {\n",
    "        \"context\": \"El machine learning es un subcampo de la inteligencia artificial que se centra en el desarrollo de algoritmos que pueden aprender de los datos y hacer predicciones.\",\n",
    "        \"question\": \"¿Qué es el machine learning?\"\n",
    "    },\n",
    "    {\n",
    "        \"context\": \"Las redes neuronales convolucionales (CNN) son especialmente efectivas para el procesamiento de imágenes y reconocimiento de patrones visuales.\",\n",
    "        \"question\": \"¿Para qué son efectivas las CNN?\"\n",
    "    },\n",
    "    {\n",
    "        \"context\": \"Python es un lenguaje de programación interpretado de alto nivel y de propósito general. Fue creado por Guido van Rossum en 1991.\",\n",
    "        \"question\": \"¿Quién creó Python?\"\n",
    "    }\n",
    "]\n",
    "\n",
    "print(\"\\n=== SISTEMA DE RAG (Question Answering) ===\\n\")\n",
    "\n",
    "for i, example in enumerate(demo_examples, 1):\n",
    "    context = example[\"context\"]\n",
    "    question = example[\"question\"]\n",
    "    \n",
    "    answer = answer_question(context, question)\n",
    "    \n",
    "    print(f\"Contexto: {context}\")\n",
    "    print(f\"Pregunta: {question}\")\n",
    "    print(f\"Respuesta del modelo: {answer}\\n\")"
   ]
  },
  {
   "cell_type": "code",
   "execution_count": 10,
   "id": "document-retrieval-demo",
   "metadata": {},
   "outputs": [
    {
     "name": "stdout",
     "output_type": "stream",
     "text": [
      "\n",
      "9. Demostración de Recuperación de Documentos...\n",
      "\n",
      "Consulta: 'machine learning'\n",
      "Documentos recuperados:\n",
      "1. El machine learning es un subcampo de la inteligencia artificial que se centra en el desarrollo de algoritmos que pueden aprender de los datos y hacer predicciones.\n",
      "2. El deep learning utiliza redes neuronales con múltiples capas para aprender representaciones de datos complejos.\n",
      "\n",
      "Sistema RAG completo:\n",
      "Pregunta: ¿Qué es el machine learning?\n",
      "Contexto recuperado: El machine learning es un subcampo de la inteligencia artificial que se centra en el desarrollo de algoritmos que pueden aprender de los datos y hacer predicciones.\n",
      "Respuesta: un subcampo de la inteligencia artificial\n"
     ]
    }
   ],
   "source": [
    "# 9. Demostración de recuperación de documentos (componente RAG)\n",
    "print(\"\\n9. Demostración de Recuperación de Documentos...\")\n",
    "\n",
    "# Crear retriever y añadir documentos\n",
    "retriever = DocumentRetriever()\n",
    "documents = [\n",
    "    \"El machine learning es un subcampo de la inteligencia artificial que se centra en el desarrollo de algoritmos que pueden aprender de los datos y hacer predicciones.\",\n",
    "    \"Las redes neuronales convolucionales (CNN) son especialmente efectivas para el procesamiento de imágenes y reconocimiento de patrones visuales.\",\n",
    "    \"Python es un lenguaje de programación interpretado de alto nivel y de propósito general. Fue creado por Guido van Rossum en 1991.\",\n",
    "    \"El deep learning utiliza redes neuronales con múltiples capas para aprender representaciones de datos complejos.\",\n",
    "    \"TensorFlow y PyTorch son dos de los frameworks más populares para el desarrollo de modelos de machine learning.\"\n",
    "]\n",
    "\n",
    "retriever.add_documents(documents)\n",
    "\n",
    "# Demostrar recuperación\n",
    "query = \"machine learning\"\n",
    "retrieved_docs = retriever.retrieve(query, top_k=2)\n",
    "\n",
    "print(f\"\\nConsulta: '{query}'\")\n",
    "print(\"Documentos recuperados:\")\n",
    "for i, doc in enumerate(retrieved_docs, 1):\n",
    "    print(f\"{i}. {doc}\")\n",
    "\n",
    "# Demostrar sistema RAG completo\n",
    "print(\"\\nSistema RAG completo:\")\n",
    "question = \"¿Qué es el machine learning?\"\n",
    "retrieved_context = retrieved_docs[0] if retrieved_docs else documents[0]\n",
    "answer = answer_question(retrieved_context, question)\n",
    "\n",
    "print(f\"Pregunta: {question}\")\n",
    "print(f\"Contexto recuperado: {retrieved_context}\")\n",
    "print(f\"Respuesta: {answer}\")"
   ]
  },
  {
   "cell_type": "code",
   "execution_count": 11,
   "id": "completion-message",
   "metadata": {},
   "outputs": [
    {
     "name": "stdout",
     "output_type": "stream",
     "text": [
      "============================================================\n",
      "PROYECTO RAG QA rag_qa_transformer COMPLETADO\n",
      "Resultados guardados en: ../results/3_rag_qa\n",
      "============================================================\n",
      "Ejercicio 3 completado. Resultados guardados en: ../results/3_rag_qa\n"
     ]
    }
   ],
   "source": [
    "print_completion_message(f\"RAG QA {RAG_MODEL_NAME}\")\n",
    "print(f\"Ejercicio 3 completado. Resultados guardados en: {rag_results_dir}\")"
   ]
  },
  {
   "cell_type": "markdown",
   "metadata": {},
   "source": [
    "## Resumen del Ejercicio 3 - RAG (Question Answering)\n",
    "\n",
    "### Objetivos Cumplidos:\n",
    "\n",
    "1. **Implementación del Modelo**: \n",
    "   - Modelo Transformer (DistilBERT) para Question Answering\n",
    "   - Sistema de recuperación de documentos simple\n",
    "   - Pipeline completo RAG (Retrieval + Generation)\n",
    "\n",
    "2. **Preparación de Datos**:\n",
    "   - Dataset SQuAD o datos de ejemplo personalizados\n",
    "   - Formato estandarizado para preguntas y respuestas\n",
    "   - División train/val/test\n",
    "\n",
    "3. **Evaluación y Métricas**:\n",
    "   - Exact Match (EM)\n",
    "   - F1 Score\n",
    "   - Pérdida del modelo\n",
    "   - Ejemplos buenos/malos clasificados\n",
    "\n",
    "4. **Visualización**:\n",
    "   - Ejemplos de preguntas y respuestas\n",
    "   - Contextos recuperados\n",
    "   - Estado de correcto/incorrecto\n",
    "\n",
    "5. **Integración con Proyecto**:\n",
    "   - Mismo sistema de directorios\n",
    "   - Actualización de summary.csv\n",
    "   - Estructura consistente de resultados\n",
    "\n",
    "### Archivos Generados:\n",
    "- `../results/3_rag_qa/qa_predictions.csv` - Predicciones detalladas\n",
    "- `../results/3_rag_qa/qa_metrics.json` - Métricas de evaluación\n",
    "- `../results/3_rag_qa/qa_examples.png` - Visualización de ejemplos\n",
    "- `../results/3_rag_qa/training_results.json` - Resultados completos\n",
    "- `../results/summary.csv` - Actualizado con métricas RAG"
   ]
  }
 ],
 "metadata": {
  "kernelspec": {
   "display_name": "ml-portfolio-env",
   "language": "python",
   "name": "python3"
  },
  "language_info": {
   "codemirror_mode": {
    "name": "ipython",
    "version": 3
   },
   "file_extension": ".py",
   "mimetype": "text/x-python",
   "name": "python",
   "nbconvert_exporter": "python",
   "pygments_lexer": "ipython3",
   "version": "3.10.1"
  }
 },
 "nbformat": 4,
 "nbformat_minor": 5
}
