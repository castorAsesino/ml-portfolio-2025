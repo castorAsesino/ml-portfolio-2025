{
 "cells": [
  {
   "cell_type": "code",
   "execution_count": null,
   "id": "6814c431",
   "metadata": {},
   "outputs": [
    {
     "name": "stdout",
     "output_type": "stream",
     "text": [
      "============================================================\n",
      "PROYECTO 2: GENERACIÓN DE IMÁGENES CON DCGAN\n",
      "Dataset: CIFAR-10\n",
      "============================================================\n"
     ]
    }
   ],
   "source": [
    "\n",
    "import sys\n",
    "sys.path.append('../src')\n",
    "\n",
    "from data import GANCifar10Data\n",
    "from models import build_dcgan_generator, build_dcgan_discriminator, build_dcgan_gan\n",
    "from train import DCGANTrainer\n",
    "from utils import plot_gan_training_history, save_gan_results, generate_final_gan_samples, calculate_fid, update_summary_csv\n",
    "import tensorflow as tf\n",
    "import matplotlib.pyplot as plt\n",
    "import numpy as np\n",
    "import os\n",
    "\n",
    "# Configuración\n",
    "\n",
    "NOTEBOOK = \"2_dcgan_generation\"\n",
    "MODEL_NAME = \"DCGAN(CIFAR10-64)\"\n",
    "LATENT_DIM = 100\n",
    "\n",
    "\n",
    "print(\"=\" * 60)\n",
    "print(\"PROYECTO 3: RAG PARA QUESTION ANSWERING\")\n",
    "print(\"=\" * 60)\n"
   ]
  },
  {
   "cell_type": "code",
   "execution_count": 1,
   "id": "60aa81f3",
   "metadata": {},
   "outputs": [
    {
     "name": "stdout",
     "output_type": "stream",
     "text": [
      "🎭 EJERCICIO 2: DCGAN CON CELEBA - GENERACIÓN DE CARAS\n"
     ]
    },
    {
     "ename": "ModuleNotFoundError",
     "evalue": "No module named 'model'",
     "output_type": "error",
     "traceback": [
      "\u001b[1;31m---------------------------------------------------------------------------\u001b[0m",
      "\u001b[1;31mModuleNotFoundError\u001b[0m                       Traceback (most recent call last)",
      "Cell \u001b[1;32mIn[1], line 10\u001b[0m\n\u001b[0;32m      7\u001b[0m sys\u001b[38;5;241m.\u001b[39mpath\u001b[38;5;241m.\u001b[39mappend(\u001b[38;5;124m'\u001b[39m\u001b[38;5;124m../src\u001b[39m\u001b[38;5;124m'\u001b[39m)\n\u001b[0;32m      9\u001b[0m \u001b[38;5;28;01mfrom\u001b[39;00m\u001b[38;5;250m \u001b[39m\u001b[38;5;21;01mdata\u001b[39;00m\u001b[38;5;250m \u001b[39m\u001b[38;5;28;01mimport\u001b[39;00m CelebAData\n\u001b[1;32m---> 10\u001b[0m \u001b[38;5;28;01mfrom\u001b[39;00m\u001b[38;5;250m \u001b[39m\u001b[38;5;21;01mmodel\u001b[39;00m\u001b[38;5;250m \u001b[39m\u001b[38;5;28;01mimport\u001b[39;00m build_dcgan_generator, build_dcgan_discriminator, build_dcgan_gan\n\u001b[0;32m     11\u001b[0m \u001b[38;5;28;01mfrom\u001b[39;00m\u001b[38;5;250m \u001b[39m\u001b[38;5;21;01mtrain\u001b[39;00m\u001b[38;5;250m \u001b[39m\u001b[38;5;28;01mimport\u001b[39;00m DCGANTrainer\n\u001b[0;32m     12\u001b[0m \u001b[38;5;28;01mfrom\u001b[39;00m\u001b[38;5;250m \u001b[39m\u001b[38;5;21;01mutils\u001b[39;00m\u001b[38;5;250m \u001b[39m\u001b[38;5;28;01mimport\u001b[39;00m plot_gan_training_history, generate_final_gan_samples, save_gan_results\n",
      "\u001b[1;31mModuleNotFoundError\u001b[0m: No module named 'model'"
     ]
    }
   ],
   "source": [
    "# 1. CONFIGURACIÓN INICIAL\n",
    "print(\"🎭 EJERCICIO 2: DCGAN CON CELEBA - GENERACIÓN DE CARAS\")\n",
    "\n",
    "import tensorflow as tf\n",
    "import sys\n",
    "import os\n",
    "sys.path.append('../src')\n",
    "\n",
    "from data import CelebAData\n",
    "from model import build_dcgan_generator, build_dcgan_discriminator, build_dcgan_gan\n",
    "from train import DCGANTrainer\n",
    "from utils import plot_gan_training_history, generate_final_gan_samples, save_gan_results\n"
   ]
  }
 ],
 "metadata": {
  "kernelspec": {
   "display_name": "ml-portfolio-env",
   "language": "python",
   "name": "python3"
  },
  "language_info": {
   "codemirror_mode": {
    "name": "ipython",
    "version": 3
   },
   "file_extension": ".py",
   "mimetype": "text/x-python",
   "name": "python",
   "nbconvert_exporter": "python",
   "pygments_lexer": "ipython3",
   "version": "3.10.1"
  }
 },
 "nbformat": 4,
 "nbformat_minor": 5
}
