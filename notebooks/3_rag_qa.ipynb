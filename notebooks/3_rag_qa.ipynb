{
 "cells": [
  {
   "cell_type": "markdown",
   "id": "40aeade8",
   "metadata": {},
   "source": [
    "# Proyecto 3 — RAG con SQuAD (Retrieval con Annoy)\n",
    "\n",
    "Armar un RAG simple que recupere contextos con **Annoy** y responda con un modelo QA.\n",
    "\n"
   ]
  },
  {
   "cell_type": "markdown",
   "id": "9d4d08e8",
   "metadata": {},
   "source": [
    "## 0) Instalación (este kernel)"
   ]
  },
  {
   "cell_type": "code",
   "execution_count": 1,
   "id": "153a71b0",
   "metadata": {},
   "outputs": [
    {
     "name": "stdout",
     "output_type": "stream",
     "text": [
      "Note: you may need to restart the kernel to use updated packages.\n"
     ]
    },
    {
     "name": "stderr",
     "output_type": "stream",
     "text": [
      "  DEPRECATION: Building 'annoy' using the legacy setup.py bdist_wheel mechanism, which will be removed in a future version. pip 25.3 will enforce this behaviour change. A possible replacement is to use the standardized build interface by setting the `--use-pep517` option, (possibly combined with `--no-build-isolation`), or adding a `pyproject.toml` file to the source tree of 'annoy'. Discussion can be found at https://github.com/pypa/pip/issues/6334\n"
     ]
    }
   ],
   "source": [
    "# Desactivar TensorFlow para evitar conflictos con Keras 3 (solo este notebook)\n",
    "import os\n",
    "os.environ['TRANSFORMERS_NO_TF'] = '1'\n",
    "os.environ['USE_TF'] = '0'\n",
    "\n",
    "# Instalar librerías necesarias en este kernel\n",
    "%pip install -qU sentence-transformers transformers datasets scikit-learn tqdm matplotlib pandas annoy"
   ]
  },
  {
   "cell_type": "markdown",
   "id": "f861acc0",
   "metadata": {},
   "source": [
    "## 1) Imports y carpetas"
   ]
  },
  {
   "cell_type": "code",
   "execution_count": 2,
   "id": "6f0e6f63",
   "metadata": {},
   "outputs": [
    {
     "name": "stdout",
     "output_type": "stream",
     "text": [
      "Usando dispositivo: cpu\n"
     ]
    }
   ],
   "source": [
    "import os, time, json, warnings, re\n",
    "from collections import Counter\n",
    "import numpy as np\n",
    "import pandas as pd\n",
    "import matplotlib.pyplot as plt\n",
    "from tqdm import tqdm\n",
    "\n",
    "import torch\n",
    "from datasets import load_dataset\n",
    "from sentence_transformers import SentenceTransformer\n",
    "from transformers import pipeline\n",
    "\n",
    "from annoy import AnnoyIndex  # ← Retrieval con Annoy\n",
    "\n",
    "warnings.filterwarnings('ignore')\n",
    "\n",
    "# Carpetas para resultados\n",
    "os.makedirs('../results/3_rag_qa', exist_ok=True)\n",
    "\n",
    "# Dispositivo (opcional: QA puede correr en CPU)\n",
    "device = torch.device('cuda' if torch.cuda.is_available() else 'cpu')\n",
    "print('Usando dispositivo:', device)"
   ]
  },
  {
   "cell_type": "markdown",
   "id": "da61f743",
   "metadata": {},
   "source": [
    "## 2) Dataset SQuAD pequeño"
   ]
  },
  {
   "cell_type": "code",
   "execution_count": 3,
   "id": "f79e0bb1",
   "metadata": {},
   "outputs": [
    {
     "name": "stdout",
     "output_type": "stream",
     "text": [
      "                 title                                            context  \\\n",
      "0                Egypt  The Pew Forum on Religion & Public Life ranks ...   \n",
      "1  Ann_Arbor,_Michigan  The Ann Arbor Hands-On Museum is located in a ...   \n",
      "\n",
      "                                            question answer_text  \n",
      "0  What percentage of Egyptians polled support de...         84%  \n",
      "1         Ann Arbor ranks 1st among what goods sold?       books  \n",
      "Total ejemplos (subset): 200\n"
     ]
    }
   ],
   "source": [
    "# Cargar SQuAD v1.1 (train) y tomar un subset pequeño para la demo\n",
    "N = 200  # podés subir si tu PC lo permite\n",
    "raw_train = load_dataset('squad')['train']\n",
    "\n",
    "def to_row(ex):\n",
    "    return {\n",
    "        'title': ex['title'],\n",
    "        'context': ex['context'],\n",
    "        'question': ex['question'],\n",
    "        'answer_text': ex['answers']['text'][0] if ex['answers']['text'] else ''\n",
    "    }\n",
    "\n",
    "small = raw_train.shuffle(seed=42).select(range(N)).map(to_row, remove_columns=raw_train.column_names)\n",
    "df_small = pd.DataFrame(small)\n",
    "print(df_small.head(2))\n",
    "print('Total ejemplos (subset):', len(df_small))"
   ]
  },
  {
   "cell_type": "markdown",
   "id": "f413d7b1",
   "metadata": {},
   "source": [
    "## 3) Embeddings y índice Annoy"
   ]
  },
  {
   "cell_type": "code",
   "execution_count": 4,
   "id": "cc7c8948",
   "metadata": {},
   "outputs": [
    {
     "name": "stdout",
     "output_type": "stream",
     "text": [
      "Pasajes únicos: 200\n"
     ]
    },
    {
     "data": {
      "application/vnd.jupyter.widget-view+json": {
       "model_id": "d237a1a12da942b08bd345c7c33790ed",
       "version_major": 2,
       "version_minor": 0
      },
      "text/plain": [
       "Batches:   0%|          | 0/7 [00:00<?, ?it/s]"
      ]
     },
     "metadata": {},
     "output_type": "display_data"
    }
   ],
   "source": [
    "# Modelo de embeddings (ligero y rápido)\n",
    "embed_model = SentenceTransformer('sentence-transformers/all-MiniLM-L6-v2')\n",
    "\n",
    "# Pasajes (contexts) únicos\n",
    "passages = list({c for c in df_small['context'].tolist()})\n",
    "print('Pasajes únicos:', len(passages))\n",
    "\n",
    "# Embeddings de pasajes\n",
    "pass_emb = embed_model.encode(passages, show_progress_bar=True, convert_to_numpy=True).astype('float32')\n",
    "dim = pass_emb.shape[1]\n",
    "\n",
    "# Índice Annoy (métrica angular ≈ coseno). Más árboles = mejor recall (y más tiempo de build)\n",
    "n_trees = 10\n",
    "index = AnnoyIndex(dim, 'angular')\n",
    "for i, vec in enumerate(pass_emb):\n",
    "    index.add_item(i, vec.tolist())\n",
    "index.build(n_trees)\n",
    "\n",
    "def retrieve(query, k=5):\n",
    "    qv = embed_model.encode([query], convert_to_numpy=True).astype('float32')[0]\n",
    "    idxs, dists = index.get_nns_by_vector(qv.tolist(), k, include_distances=True)\n",
    "    ctxs = [passages[i] for i in idxs]\n",
    "    return ctxs, dists"
   ]
  },
  {
   "cell_type": "markdown",
   "id": "8dc27eb2",
   "metadata": {},
   "source": [
    "## 4) Lector QA (modelo SQuAD)"
   ]
  },
  {
   "cell_type": "code",
   "execution_count": 5,
   "id": "f1ce1c6d",
   "metadata": {},
   "outputs": [
    {
     "name": "stderr",
     "output_type": "stream",
     "text": [
      "Device set to use cpu\n"
     ]
    }
   ],
   "source": [
    "qa = pipeline('question-answering',\n",
    "               model='deepset/roberta-base-squad2',\n",
    "               tokenizer='deepset/roberta-base-squad2',\n",
    "               device=0 if torch.cuda.is_available() else -1)\n",
    "\n",
    "def answer_with_rag(question, k=3):\n",
    "    ctxs, _ = retrieve(question, k=k)\n",
    "    best = {'answer': '', 'score': -1.0, 'context': ''}\n",
    "    for ctx in ctxs:\n",
    "        out = qa(question=question, context=ctx)\n",
    "        if float(out['score']) > best['score']:\n",
    "            best = {'answer': out['answer'], 'score': float(out['score']), 'context': ctx}\n",
    "    return best"
   ]
  },
  {
   "cell_type": "markdown",
   "id": "70e9aaff",
   "metadata": {},
   "source": [
    "## 5) Métricas (Exact Match y F1 simplificados)"
   ]
  },
  {
   "cell_type": "code",
   "execution_count": 6,
   "id": "ae5caad3",
   "metadata": {},
   "outputs": [],
   "source": [
    "def _normalize(s: str) -> str:\n",
    "    s = s.lower()\n",
    "    s = re.sub(r'\\b(a|an|the)\\b', ' ', s)   # artículos (inglés)\n",
    "    s = re.sub(r'[^\\w\\s]', ' ', s)          # puntuación\n",
    "    s = re.sub(r'\\s+', ' ', s).strip()\n",
    "    return s\n",
    "\n",
    "def exact_match(pred: str, truth: str) -> int:\n",
    "    return int(_normalize(pred) == _normalize(truth))\n",
    "\n",
    "def f1_score_tokens(pred: str, truth: str) -> float:\n",
    "    p = _normalize(pred).split()\n",
    "    t = _normalize(truth).split()\n",
    "    if len(p)==0 and len(t)==0: return 1.0\n",
    "    if len(p)==0 or len(t)==0: return 0.0\n",
    "    cp, ct = Counter(p), Counter(t)\n",
    "    num_same = sum((cp & ct).values())\n",
    "    if num_same == 0: return 0.0\n",
    "    precision = num_same / len(p)\n",
    "    recall = num_same / len(t)\n",
    "    return 2 * precision * recall / (precision + recall)"
   ]
  },
  {
   "cell_type": "markdown",
   "id": "706574e4",
   "metadata": {},
   "source": [
    "## 6) Evaluación y guardado de ejemplos"
   ]
  },
  {
   "cell_type": "code",
   "execution_count": 7,
   "id": "aa24e95a",
   "metadata": {},
   "outputs": [
    {
     "name": "stderr",
     "output_type": "stream",
     "text": [
      "100%|██████████| 50/50 [00:47<00:00,  1.05it/s]"
     ]
    },
    {
     "name": "stdout",
     "output_type": "stream",
     "text": [
      "Guardado ejemplos en: ../results/3_rag_qa/examples.csv\n",
      "EM medio: 0.720 | F1 medio: 0.871 | Tiempo: 47.7s\n"
     ]
    },
    {
     "name": "stderr",
     "output_type": "stream",
     "text": [
      "\n"
     ]
    }
   ],
   "source": [
    "K = 50  # cuántas preguntas evaluar\n",
    "sample = df_small.sample(n=min(K, len(df_small)), random_state=42)\n",
    "\n",
    "records = []\n",
    "t0 = time.time()\n",
    "for _, row in tqdm(sample.iterrows(), total=len(sample)):\n",
    "    q = row['question']\n",
    "    truth = row['answer_text']\n",
    "    best = answer_with_rag(q, k=3)\n",
    "    em = exact_match(best['answer'], truth)\n",
    "    f1 = f1_score_tokens(best['answer'], truth)\n",
    "    records.append({\n",
    "        'question': q,\n",
    "        'pred_answer': best['answer'],\n",
    "        'true_answer': truth,\n",
    "        'context_used': best['context'][:1000],  \n",
    "        'score': best['score'],\n",
    "        'exact_match': em,\n",
    "        'f1': f1,\n",
    "        'timestamp': int(time.time())\n",
    "    })\n",
    "t1 = time.time()\n",
    "\n",
    "df_eval = pd.DataFrame(records)\n",
    "examples_path = '../results/3_rag_qa/examples.csv'\n",
    "df_eval.to_csv(examples_path, index=False, encoding='utf-8')\n",
    "print('Guardado ejemplos en:', examples_path)\n",
    "\n",
    "em_mean = df_eval['exact_match'].mean()\n",
    "f1_mean = df_eval['f1'].mean()\n",
    "print(f'EM medio: {em_mean:.3f} | F1 medio: {f1_mean:.3f} | Tiempo: {(t1-t0):.1f}s')"
   ]
  },
  {
   "cell_type": "markdown",
   "id": "4665b5ef",
   "metadata": {},
   "source": [
    "## 7) Resumen → `results/summary.csv`"
   ]
  },
  {
   "cell_type": "code",
   "execution_count": 8,
   "id": "65eb6ffd",
   "metadata": {},
   "outputs": [
    {
     "name": "stdout",
     "output_type": "stream",
     "text": [
      "Actualizado: ../results/summary.csv\n"
     ]
    },
    {
     "data": {
      "text/html": [
       "<div>\n",
       "<style scoped>\n",
       "    .dataframe tbody tr th:only-of-type {\n",
       "        vertical-align: middle;\n",
       "    }\n",
       "\n",
       "    .dataframe tbody tr th {\n",
       "        vertical-align: top;\n",
       "    }\n",
       "\n",
       "    .dataframe thead th {\n",
       "        text-align: right;\n",
       "    }\n",
       "</style>\n",
       "<table border=\"1\" class=\"dataframe\">\n",
       "  <thead>\n",
       "    <tr style=\"text-align: right;\">\n",
       "      <th></th>\n",
       "      <th>model_name</th>\n",
       "      <th>notebook_name</th>\n",
       "      <th>test_accuracy</th>\n",
       "      <th>f1</th>\n",
       "      <th>test_loss</th>\n",
       "      <th>epochs</th>\n",
       "      <th>model_params</th>\n",
       "      <th>training_time</th>\n",
       "      <th>final_g_loss</th>\n",
       "      <th>final_d_loss</th>\n",
       "      <th>...</th>\n",
       "      <th>final_val_accuracy</th>\n",
       "      <th>final_training_loss</th>\n",
       "      <th>final_val_loss</th>\n",
       "      <th>timestamp</th>\n",
       "      <th>task</th>\n",
       "      <th>accuracy</th>\n",
       "      <th>loss</th>\n",
       "      <th>params</th>\n",
       "      <th>train_time_sec</th>\n",
       "      <th>notes</th>\n",
       "    </tr>\n",
       "  </thead>\n",
       "  <tbody>\n",
       "    <tr>\n",
       "      <th>0</th>\n",
       "      <td>fashion_mnist_cnn_baseline</td>\n",
       "      <td>1_cnn_classification</td>\n",
       "      <td>NaN</td>\n",
       "      <td>NaN</td>\n",
       "      <td>NaN</td>\n",
       "      <td>NaN</td>\n",
       "      <td>470122.0</td>\n",
       "      <td>NaN</td>\n",
       "      <td>NaN</td>\n",
       "      <td>NaN</td>\n",
       "      <td>...</td>\n",
       "      <td>0.9219</td>\n",
       "      <td>0.220919</td>\n",
       "      <td>0.212786</td>\n",
       "      <td>2025-10-05T17:56:07.985152</td>\n",
       "      <td>NaN</td>\n",
       "      <td>NaN</td>\n",
       "      <td>NaN</td>\n",
       "      <td>NaN</td>\n",
       "      <td>NaN</td>\n",
       "      <td>NaN</td>\n",
       "    </tr>\n",
       "    <tr>\n",
       "      <th>1</th>\n",
       "      <td>dcgan_celeba_64</td>\n",
       "      <td>2_dcgan_generation</td>\n",
       "      <td>NaN</td>\n",
       "      <td>NaN</td>\n",
       "      <td>7.941555</td>\n",
       "      <td>5.0</td>\n",
       "      <td>6342272.0</td>\n",
       "      <td>1725.872513</td>\n",
       "      <td>7.941555</td>\n",
       "      <td>0.604401</td>\n",
       "      <td>...</td>\n",
       "      <td>NaN</td>\n",
       "      <td>NaN</td>\n",
       "      <td>NaN</td>\n",
       "      <td>NaN</td>\n",
       "      <td>NaN</td>\n",
       "      <td>NaN</td>\n",
       "      <td>NaN</td>\n",
       "      <td>NaN</td>\n",
       "      <td>NaN</td>\n",
       "      <td>NaN</td>\n",
       "    </tr>\n",
       "    <tr>\n",
       "      <th>2</th>\n",
       "      <td>lstm_imdb_tuned</td>\n",
       "      <td>4_lstm_text_imdb</td>\n",
       "      <td>NaN</td>\n",
       "      <td>NaN</td>\n",
       "      <td>NaN</td>\n",
       "      <td>NaN</td>\n",
       "      <td>2732993.0</td>\n",
       "      <td>NaN</td>\n",
       "      <td>NaN</td>\n",
       "      <td>NaN</td>\n",
       "      <td>...</td>\n",
       "      <td>0.8736</td>\n",
       "      <td>0.227659</td>\n",
       "      <td>0.311605</td>\n",
       "      <td>2025-10-05T19:14:40.008374</td>\n",
       "      <td>NaN</td>\n",
       "      <td>NaN</td>\n",
       "      <td>NaN</td>\n",
       "      <td>NaN</td>\n",
       "      <td>NaN</td>\n",
       "      <td>NaN</td>\n",
       "    </tr>\n",
       "    <tr>\n",
       "      <th>3</th>\n",
       "      <td>MiniLM + Annoy + roberta-base-squad2</td>\n",
       "      <td>NaN</td>\n",
       "      <td>NaN</td>\n",
       "      <td>0.870587</td>\n",
       "      <td>NaN</td>\n",
       "      <td>NaN</td>\n",
       "      <td>NaN</td>\n",
       "      <td>NaN</td>\n",
       "      <td>NaN</td>\n",
       "      <td>NaN</td>\n",
       "      <td>...</td>\n",
       "      <td>NaN</td>\n",
       "      <td>NaN</td>\n",
       "      <td>NaN</td>\n",
       "      <td>NaN</td>\n",
       "      <td>RAG-QA</td>\n",
       "      <td>0.72</td>\n",
       "      <td>None</td>\n",
       "      <td>{\"retriever\": \"Annoy(angular)\", \"reader\": \"rob...</td>\n",
       "      <td>None</td>\n",
       "      <td>RAG simple con Annoy (SQuAD subset); ejemplos ...</td>\n",
       "    </tr>\n",
       "  </tbody>\n",
       "</table>\n",
       "<p>4 rows × 26 columns</p>\n",
       "</div>"
      ],
      "text/plain": [
       "                             model_name         notebook_name  test_accuracy  \\\n",
       "0            fashion_mnist_cnn_baseline  1_cnn_classification            NaN   \n",
       "1                       dcgan_celeba_64    2_dcgan_generation            NaN   \n",
       "2                       lstm_imdb_tuned      4_lstm_text_imdb            NaN   \n",
       "3  MiniLM + Annoy + roberta-base-squad2                   NaN            NaN   \n",
       "\n",
       "         f1  test_loss  epochs  model_params  training_time  final_g_loss  \\\n",
       "0       NaN        NaN     NaN      470122.0            NaN           NaN   \n",
       "1       NaN   7.941555     5.0     6342272.0    1725.872513      7.941555   \n",
       "2       NaN        NaN     NaN     2732993.0            NaN           NaN   \n",
       "3  0.870587        NaN     NaN           NaN            NaN           NaN   \n",
       "\n",
       "   final_d_loss  ...  final_val_accuracy  final_training_loss  final_val_loss  \\\n",
       "0           NaN  ...              0.9219             0.220919        0.212786   \n",
       "1      0.604401  ...                 NaN                  NaN             NaN   \n",
       "2           NaN  ...              0.8736             0.227659        0.311605   \n",
       "3           NaN  ...                 NaN                  NaN             NaN   \n",
       "\n",
       "                    timestamp    task  accuracy  loss  \\\n",
       "0  2025-10-05T17:56:07.985152     NaN       NaN   NaN   \n",
       "1                         NaN     NaN       NaN   NaN   \n",
       "2  2025-10-05T19:14:40.008374     NaN       NaN   NaN   \n",
       "3                         NaN  RAG-QA      0.72  None   \n",
       "\n",
       "                                              params  train_time_sec  \\\n",
       "0                                                NaN             NaN   \n",
       "1                                                NaN             NaN   \n",
       "2                                                NaN             NaN   \n",
       "3  {\"retriever\": \"Annoy(angular)\", \"reader\": \"rob...            None   \n",
       "\n",
       "                                               notes  \n",
       "0                                                NaN  \n",
       "1                                                NaN  \n",
       "2                                                NaN  \n",
       "3  RAG simple con Annoy (SQuAD subset); ejemplos ...  \n",
       "\n",
       "[4 rows x 26 columns]"
      ]
     },
     "execution_count": 8,
     "metadata": {},
     "output_type": "execute_result"
    }
   ],
   "source": [
    "summary_path = '../results/summary.csv'\n",
    "summary_row = {\n",
    "    'task': 'RAG-QA',\n",
    "    'model_name': 'MiniLM + Annoy + roberta-base-squad2',\n",
    "    'accuracy': float(df_eval['exact_match'].mean()),\n",
    "    'f1': float(df_eval['f1'].mean()),\n",
    "    'loss': None,\n",
    "    'epochs': None,\n",
    "    'params': json.dumps({'retriever': 'Annoy(angular)', 'reader': 'roberta-base-squad2', 'k': 3}),\n",
    "    'train_time_sec': None,\n",
    "    'notes': 'RAG simple con Annoy (SQuAD subset); ejemplos en results/3_rag_qa/examples.csv'\n",
    "}\n",
    "\n",
    "if os.path.exists(summary_path):\n",
    "    df_sum = pd.read_csv(summary_path)\n",
    "    df_sum = pd.concat([df_sum, pd.DataFrame([summary_row])], ignore_index=True)\n",
    "else:\n",
    "    df_sum = pd.DataFrame([summary_row])\n",
    "\n",
    "df_sum.to_csv(summary_path, index=False, encoding='utf-8')\n",
    "print('Actualizado:', summary_path)\n",
    "df_sum.tail(5)"
   ]
  },
  {
   "cell_type": "markdown",
   "id": "f8779c18",
   "metadata": {},
   "source": [
    "## 8) Visualización rápida (histograma de F1)"
   ]
  },
  {
   "cell_type": "code",
   "execution_count": 9,
   "id": "03bb8cc5",
   "metadata": {},
   "outputs": [
    {
     "name": "stdout",
     "output_type": "stream",
     "text": [
      "Guardado: ../results/3_rag_qa/f1_hist.png\n"
     ]
    },
    {
     "data": {
      "image/png": "[encoded data removed]",
      "text/plain": [
       "<Figure size 640x480 with 1 Axes>"
      ]
     },
     "metadata": {},
     "output_type": "display_data"
    }
   ],
   "source": [
    "plt.figure()\n",
    "df_eval['f1'].hist(bins=20)\n",
    "plt.title('Distribución de F1 (RAG con Annoy)')\n",
    "plt.xlabel('F1')\n",
    "plt.ylabel('Frecuencia')\n",
    "viz_path = '../results/3_rag_qa/f1_hist.png'\n",
    "plt.savefig(viz_path, bbox_inches='tight')\n",
    "print('Guardado:', viz_path)\n",
    "plt.show()"
   ]
  }
 ],
 "metadata": {
  "kernelspec": {
   "display_name": "ml-portfolio-env",
   "language": "python",
   "name": "python3"
  },
  "language_info": {
   "codemirror_mode": {
    "name": "ipython",
    "version": 3
   },
   "file_extension": ".py",
   "mimetype": "text/x-python",
   "name": "python",
   "nbconvert_exporter": "python",
   "pygments_lexer": "ipython3",
   "version": "3.10.1"
  }
 },
 "nbformat": 4,
 "nbformat_minor": 5
}
