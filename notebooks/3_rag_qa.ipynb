{
 "cells": [
  {
   "cell_type": "markdown",
   "id": "5b058de0",
   "metadata": {},
   "source": [
    "# Ejercicio 3 — RAG (QA con documentos) — Demo Sencilla\n",
    "\n",
    "Este ejercicio tiene un **RAG** básico con:\n",
    "- *Embeddings* con **SentenceTransformers** (`all-MiniLM-L6-v2`)\n",
    "- **NearestNeighbors** (scikit-learn) para búsqueda por similitud (evita problemas de FAISS en Windows)\n",
    "- **pipeline** de `transformers` como *lector* (modelo SQuAD)\n",
    "  \n",
    "> Objetivo: poder **hacer preguntas**, **recuperar contexto** y **responder**, guardando ejemplos y una fila de resumen en `results/summary.csv` (como pide la consigna).\n"
   ]
  },
  {
   "cell_type": "code",
   "execution_count": 1,
   "id": "67a4415b",
   "metadata": {},
   "outputs": [],
   "source": [
    "# --- Parche rápido: forzar Transformers a NO usar TensorFlow/Keras ---\n",
    "import os\n",
    "os.environ['TRANSFORMERS_NO_TF'] = '1'  # desactiva backend TF\n",
    "os.environ['USE_TF'] = '0'              # redundante, por si acaso\n",
    "# (Deja PyTorch activo por defecto)"
   ]
  },
  {
   "cell_type": "markdown",
   "id": "9bf85ded",
   "metadata": {},
   "source": [
    "## Instalación de librerías (ejecutar una vez por kernel)\n",
    "> Usa `%pip` para instalar en **este** kernel.\n"
   ]
  },
  {
   "cell_type": "code",
   "execution_count": null,
   "id": "e5887278",
   "metadata": {},
   "outputs": [
    {
     "name": "stdout",
     "output_type": "stream",
     "text": [
      "Note: you may need to restart the kernel to use updated packages.\n"
     ]
    }
   ],
   "source": [
    "%pip install -qU sentence-transformers transformers datasets scikit-learn tqdm matplotlib pandas numpy"
   ]
  },
  {
   "cell_type": "markdown",
   "id": "88b765a5",
   "metadata": {},
   "source": [
    "## Importaciones y configuración\n",
    "- Creamos carpetas de resultados si no existen.\n",
    "- Verificamos si hay GPU (opcional).\n"
   ]
  },
  {
   "cell_type": "code",
   "execution_count": 3,
   "id": "ed6e9106",
   "metadata": {},
   "outputs": [
    {
     "name": "stdout",
     "output_type": "stream",
     "text": [
      "Usando dispositivo: cpu\n"
     ]
    }
   ],
   "source": [
    "import os, time, json, warnings, re\n",
    "from collections import Counter\n",
    "import numpy as np\n",
    "import pandas as pd\n",
    "from tqdm import tqdm\n",
    "\n",
    "import torch\n",
    "from sentence_transformers import SentenceTransformer\n",
    "from sklearn.neighbors import NearestNeighbors\n",
    "from transformers import pipeline\n",
    "from datasets import load_dataset\n",
    "\n",
    "warnings.filterwarnings('ignore')\n",
    "\n",
    "# Carpetas\n",
    "os.makedirs('../results/3_rag_qa', exist_ok=True)\n",
    "\n",
    "# Dispositivo\n",
    "device = torch.device('cuda' if torch.cuda.is_available() else 'cpu')\n",
    "print(f\"Usando dispositivo: {device}\")\n"
   ]
  },
  {
   "cell_type": "markdown",
   "id": "68231c66",
   "metadata": {},
   "source": [
    "## Carga de datos (SQuAD pequeño)\n",
    "Tomamos un **subset chico** de SQuAD para que corra rápido en cualquier PC.\n"
   ]
  },
  {
   "cell_type": "code",
   "execution_count": 4,
   "id": "f022a16f",
   "metadata": {},
   "outputs": [
    {
     "data": {
      "application/vnd.jupyter.widget-view+json": {
       "model_id": "f6c7ac0412334ebcaa7dae94e6e3b91a",
       "version_major": 2,
       "version_minor": 0
      },
      "text/plain": [
       "README.md: 0.00B [00:00, ?B/s]"
      ]
     },
     "metadata": {},
     "output_type": "display_data"
    },
    {
     "name": "stderr",
     "output_type": "stream",
     "text": [
      "Xet Storage is enabled for this repo, but the 'hf_xet' package is not installed. Falling back to regular HTTP download. For better performance, install the package with: `pip install huggingface_hub[hf_xet]` or `pip install hf_xet`\n"
     ]
    },
    {
     "data": {
      "application/vnd.jupyter.widget-view+json": {
       "model_id": "4acc1ef0c9184548832c5ff04e81be80",
       "version_major": 2,
       "version_minor": 0
      },
      "text/plain": [
       "train-00000-of-00001.parquet:   0%|          | 0.00/14.5M [00:00<?, ?B/s]"
      ]
     },
     "metadata": {},
     "output_type": "display_data"
    },
    {
     "name": "stderr",
     "output_type": "stream",
     "text": [
      "Xet Storage is enabled for this repo, but the 'hf_xet' package is not installed. Falling back to regular HTTP download. For better performance, install the package with: `pip install huggingface_hub[hf_xet]` or `pip install hf_xet`\n"
     ]
    },
    {
     "data": {
      "application/vnd.jupyter.widget-view+json": {
       "model_id": "9c2feec5ee1e40fcaa973f68a8344617",
       "version_major": 2,
       "version_minor": 0
      },
      "text/plain": [
       "validation-00000-of-00001.parquet:   0%|          | 0.00/1.82M [00:00<?, ?B/s]"
      ]
     },
     "metadata": {},
     "output_type": "display_data"
    },
    {
     "data": {
      "application/vnd.jupyter.widget-view+json": {
       "model_id": "c86e8bd7f6af47a3aaab826cea8fce44",
       "version_major": 2,
       "version_minor": 0
      },
      "text/plain": [
       "Generating train split:   0%|          | 0/87599 [00:00<?, ? examples/s]"
      ]
     },
     "metadata": {},
     "output_type": "display_data"
    },
    {
     "data": {
      "application/vnd.jupyter.widget-view+json": {
       "model_id": "994f43cd707c45329859ba3fad93ebf4",
       "version_major": 2,
       "version_minor": 0
      },
      "text/plain": [
       "Generating validation split:   0%|          | 0/10570 [00:00<?, ? examples/s]"
      ]
     },
     "metadata": {},
     "output_type": "display_data"
    },
    {
     "data": {
      "application/vnd.jupyter.widget-view+json": {
       "model_id": "0343e730fe58484a9f8eeb9a03698d45",
       "version_major": 2,
       "version_minor": 0
      },
      "text/plain": [
       "Map:   0%|          | 0/200 [00:00<?, ? examples/s]"
      ]
     },
     "metadata": {},
     "output_type": "display_data"
    },
    {
     "name": "stdout",
     "output_type": "stream",
     "text": [
      "                 title                                            context  \\\n",
      "0                Egypt  The Pew Forum on Religion & Public Life ranks ...   \n",
      "1  Ann_Arbor,_Michigan  The Ann Arbor Hands-On Museum is located in a ...   \n",
      "\n",
      "                                            question answer_text  \n",
      "0  What percentage of Egyptians polled support de...         84%  \n",
      "1         Ann Arbor ranks 1st among what goods sold?       books  \n",
      "Total ejemplos (subset): 200\n"
     ]
    }
   ],
   "source": [
    "# Cargar SQuAD v1.1 (train) y quedarnos con N ejemplos\n",
    "N = 200  # cambia a 300-500 si tu PC lo permite\n",
    "raw_train = load_dataset('squad')['train']\n",
    "\n",
    "def to_row(ex):\n",
    "    return {\n",
    "        'title': ex['title'],\n",
    "        'context': ex['context'],\n",
    "        'question': ex['question'],\n",
    "        'answer_text': ex['answers']['text'][0] if ex['answers']['text'] else ''\n",
    "    }\n",
    "\n",
    "small = raw_train.shuffle(seed=42).select(range(N)).map(to_row, remove_columns=raw_train.column_names)\n",
    "df_small = pd.DataFrame(small)\n",
    "print(df_small.head(2))\n",
    "print(f\"Total ejemplos (subset): {len(df_small)}\")"
   ]
  },
  {
   "cell_type": "markdown",
   "id": "9c7d4e97",
   "metadata": {},
   "source": [
    "## Indexación (embeddings + búsqueda)\n",
    "- **Embeddings** con `all-MiniLM-L6-v2` (rápido y liviano).\n",
    "- Índice de **NearestNeighbors** con métrica coseno.\n"
   ]
  },
  {
   "cell_type": "code",
   "execution_count": 5,
   "id": "10b3b149",
   "metadata": {},
   "outputs": [
    {
     "data": {
      "application/vnd.jupyter.widget-view+json": {
       "model_id": "5c0bef4eef9240f4be4306e4455ea560",
       "version_major": 2,
       "version_minor": 0
      },
      "text/plain": [
       "modules.json:   0%|          | 0.00/349 [00:00<?, ?B/s]"
      ]
     },
     "metadata": {},
     "output_type": "display_data"
    },
    {
     "data": {
      "application/vnd.jupyter.widget-view+json": {
       "model_id": "99e9476d26da4c0cb4be43174127ad78",
       "version_major": 2,
       "version_minor": 0
      },
      "text/plain": [
       "config_sentence_transformers.json:   0%|          | 0.00/116 [00:00<?, ?B/s]"
      ]
     },
     "metadata": {},
     "output_type": "display_data"
    },
    {
     "data": {
      "application/vnd.jupyter.widget-view+json": {
       "model_id": "164a771431074709938b2f6a8d5ddb32",
       "version_major": 2,
       "version_minor": 0
      },
      "text/plain": [
       "README.md: 0.00B [00:00, ?B/s]"
      ]
     },
     "metadata": {},
     "output_type": "display_data"
    },
    {
     "data": {
      "application/vnd.jupyter.widget-view+json": {
       "model_id": "9f6925613cb041eeacf0e3aa0a733031",
       "version_major": 2,
       "version_minor": 0
      },
      "text/plain": [
       "sentence_bert_config.json:   0%|          | 0.00/53.0 [00:00<?, ?B/s]"
      ]
     },
     "metadata": {},
     "output_type": "display_data"
    },
    {
     "data": {
      "application/vnd.jupyter.widget-view+json": {
       "model_id": "01cd5ad2b66b485bb56ab7ed12947d0c",
       "version_major": 2,
       "version_minor": 0
      },
      "text/plain": [
       "config.json:   0%|          | 0.00/612 [00:00<?, ?B/s]"
      ]
     },
     "metadata": {},
     "output_type": "display_data"
    },
    {
     "name": "stderr",
     "output_type": "stream",
     "text": [
      "Xet Storage is enabled for this repo, but the 'hf_xet' package is not installed. Falling back to regular HTTP download. For better performance, install the package with: `pip install huggingface_hub[hf_xet]` or `pip install hf_xet`\n"
     ]
    },
    {
     "data": {
      "application/vnd.jupyter.widget-view+json": {
       "model_id": "e3d2c79d3e294cdca8ca01faca166aa7",
       "version_major": 2,
       "version_minor": 0
      },
      "text/plain": [
       "model.safetensors:   0%|          | 0.00/90.9M [00:00<?, ?B/s]"
      ]
     },
     "metadata": {},
     "output_type": "display_data"
    },
    {
     "data": {
      "application/vnd.jupyter.widget-view+json": {
       "model_id": "2d4b1ff209ba42ca852be700d0bfb9fc",
       "version_major": 2,
       "version_minor": 0
      },
      "text/plain": [
       "tokenizer_config.json:   0%|          | 0.00/350 [00:00<?, ?B/s]"
      ]
     },
     "metadata": {},
     "output_type": "display_data"
    },
    {
     "data": {
      "application/vnd.jupyter.widget-view+json": {
       "model_id": "3054eb70854e4371a7a9682b4d92d70b",
       "version_major": 2,
       "version_minor": 0
      },
      "text/plain": [
       "vocab.txt: 0.00B [00:00, ?B/s]"
      ]
     },
     "metadata": {},
     "output_type": "display_data"
    },
    {
     "data": {
      "application/vnd.jupyter.widget-view+json": {
       "model_id": "41d0fdf9dc14481ebcd5eaa6d5d03bd2",
       "version_major": 2,
       "version_minor": 0
      },
      "text/plain": [
       "tokenizer.json: 0.00B [00:00, ?B/s]"
      ]
     },
     "metadata": {},
     "output_type": "display_data"
    },
    {
     "data": {
      "application/vnd.jupyter.widget-view+json": {
       "model_id": "99ad33b376e8496d8edf74ac0aebe61a",
       "version_major": 2,
       "version_minor": 0
      },
      "text/plain": [
       "special_tokens_map.json:   0%|          | 0.00/112 [00:00<?, ?B/s]"
      ]
     },
     "metadata": {},
     "output_type": "display_data"
    },
    {
     "data": {
      "application/vnd.jupyter.widget-view+json": {
       "model_id": "f117c65a40e747459148b6c87c47f82e",
       "version_major": 2,
       "version_minor": 0
      },
      "text/plain": [
       "config.json:   0%|          | 0.00/190 [00:00<?, ?B/s]"
      ]
     },
     "metadata": {},
     "output_type": "display_data"
    },
    {
     "name": "stdout",
     "output_type": "stream",
     "text": [
      "Pasajes únicos: 200\n"
     ]
    },
    {
     "data": {
      "application/vnd.jupyter.widget-view+json": {
       "model_id": "36f43707f6874004bbc786b436ef72f1",
       "version_major": 2,
       "version_minor": 0
      },
      "text/plain": [
       "Batches:   0%|          | 0/7 [00:00<?, ?it/s]"
      ]
     },
     "metadata": {},
     "output_type": "display_data"
    }
   ],
   "source": [
    "# Modelo de embeddings\n",
    "embed_model = SentenceTransformer('sentence-transformers/all-MiniLM-L6-v2')\n",
    "\n",
    "# Pasajes (contextos) únicos para reducir trabajo\n",
    "passages = list({c for c in df_small['context'].tolist()})\n",
    "print(f\"Pasajes únicos: {len(passages)}\")\n",
    "\n",
    "# Embeddings de pasajes\n",
    "pass_emb = embed_model.encode(passages, show_progress_bar=True, convert_to_numpy=True).astype('float32')\n",
    "\n",
    "# Índice de vecinos cercanos (coseno)\n",
    "index = NearestNeighbors(n_neighbors=5, metric='cosine').fit(pass_emb)\n",
    "\n",
    "def retrieve(query, k=5):\n",
    "    qv = embed_model.encode([query], convert_to_numpy=True).astype('float32')\n",
    "    dists, idxs = index.kneighbors(qv, n_neighbors=k, return_distance=True)\n",
    "    ctxs = [passages[i] for i in idxs[0]]\n",
    "    return ctxs, dists[0].tolist()\n"
   ]
  },
  {
   "cell_type": "markdown",
   "id": "f241aec0",
   "metadata": {},
   "source": [
    "## Modelo lector (QA)\n",
    "Usamos un modelo listo para SQuAD para extraer respuesta del contexto recuperado.\n"
   ]
  },
  {
   "cell_type": "code",
   "execution_count": 6,
   "id": "07d19567",
   "metadata": {},
   "outputs": [
    {
     "data": {
      "application/vnd.jupyter.widget-view+json": {
       "model_id": "c67546e7e31f4e42a49beae830646b72",
       "version_major": 2,
       "version_minor": 0
      },
      "text/plain": [
       "config.json:   0%|          | 0.00/571 [00:00<?, ?B/s]"
      ]
     },
     "metadata": {},
     "output_type": "display_data"
    },
    {
     "name": "stderr",
     "output_type": "stream",
     "text": [
      "Xet Storage is enabled for this repo, but the 'hf_xet' package is not installed. Falling back to regular HTTP download. For better performance, install the package with: `pip install huggingface_hub[hf_xet]` or `pip install hf_xet`\n"
     ]
    },
    {
     "data": {
      "application/vnd.jupyter.widget-view+json": {
       "model_id": "02d5962c140b413b97779434e9af6189",
       "version_major": 2,
       "version_minor": 0
      },
      "text/plain": [
       "model.safetensors:   0%|          | 0.00/496M [00:00<?, ?B/s]"
      ]
     },
     "metadata": {},
     "output_type": "display_data"
    },
    {
     "data": {
      "application/vnd.jupyter.widget-view+json": {
       "model_id": "4ed9811e0cf948a1b12b919c657ef9de",
       "version_major": 2,
       "version_minor": 0
      },
      "text/plain": [
       "tokenizer_config.json:   0%|          | 0.00/79.0 [00:00<?, ?B/s]"
      ]
     },
     "metadata": {},
     "output_type": "display_data"
    },
    {
     "data": {
      "application/vnd.jupyter.widget-view+json": {
       "model_id": "482670aa8fa64782a827ac6298878770",
       "version_major": 2,
       "version_minor": 0
      },
      "text/plain": [
       "vocab.json: 0.00B [00:00, ?B/s]"
      ]
     },
     "metadata": {},
     "output_type": "display_data"
    },
    {
     "data": {
      "application/vnd.jupyter.widget-view+json": {
       "model_id": "47de604d68cf4faf86e3628b728624d3",
       "version_major": 2,
       "version_minor": 0
      },
      "text/plain": [
       "merges.txt: 0.00B [00:00, ?B/s]"
      ]
     },
     "metadata": {},
     "output_type": "display_data"
    },
    {
     "data": {
      "application/vnd.jupyter.widget-view+json": {
       "model_id": "df8bca8ab4ac4427b79a34fbc20110a4",
       "version_major": 2,
       "version_minor": 0
      },
      "text/plain": [
       "special_tokens_map.json:   0%|          | 0.00/772 [00:00<?, ?B/s]"
      ]
     },
     "metadata": {},
     "output_type": "display_data"
    },
    {
     "name": "stderr",
     "output_type": "stream",
     "text": [
      "Device set to use cpu\n"
     ]
    }
   ],
   "source": [
    "qa = pipeline('question-answering',\n",
    "               model='deepset/roberta-base-squad2',\n",
    "               tokenizer='deepset/roberta-base-squad2',\n",
    "               device=0 if torch.cuda.is_available() else -1)\n",
    "\n",
    "def answer_with_rag(question, k=3):\n",
    "    ctxs, _ = retrieve(question, k=k)\n",
    "    best = {'answer': '', 'score': -1.0, 'context': ''}\n",
    "    for ctx in ctxs:\n",
    "        out = qa(question=question, context=ctx)\n",
    "        if float(out['score']) > best['score']:\n",
    "            best = {'answer': out['answer'], 'score': float(out['score']), 'context': ctx}\n",
    "    return best\n"
   ]
  },
  {
   "cell_type": "markdown",
   "id": "1fddc553",
   "metadata": {},
   "source": [
    "## Métricas (Exact Match y F1 simplificados)\n",
    "Estas métricas son suficientes para el **portfolio**.\n"
   ]
  },
  {
   "cell_type": "code",
   "execution_count": 7,
   "id": "8e044b3c",
   "metadata": {},
   "outputs": [],
   "source": [
    "def _normalize(s: str) -> str:\n",
    "    s = s.lower()\n",
    "    s = re.sub(r\"\\b(a|an|the)\\b\", \" \", s)   # artículos\n",
    "    s = re.sub(r\"[^\\w\\s]\", \" \", s)          # puntuación\n",
    "    s = re.sub(r\"\\s+\", \" \", s).strip()\n",
    "    return s\n",
    "\n",
    "def exact_match(pred: str, truth: str) -> int:\n",
    "    return int(_normalize(pred) == _normalize(truth))\n",
    "\n",
    "def f1_score_tokens(pred: str, truth: str) -> float:\n",
    "    p = _normalize(pred).split()\n",
    "    t = _normalize(truth).split()\n",
    "    if len(p)==0 and len(t)==0: return 1.0\n",
    "    if len(p)==0 or len(t)==0: return 0.0\n",
    "    cp, ct = Counter(p), Counter(t)\n",
    "    num_same = sum((cp & ct).values())\n",
    "    if num_same == 0: return 0.0\n",
    "    precision = num_same / len(p)\n",
    "    recall = num_same / len(t)\n",
    "    return 2 * precision * recall / (precision + recall)\n"
   ]
  },
  {
   "cell_type": "markdown",
   "id": "8fe9b5ac",
   "metadata": {},
   "source": [
    "## Evaluación y guardado de ejemplos\n",
    "- Probamos **K** preguntas.\n",
    "- Guardamos `results/3_rag_qa/examples.csv` con *question, pred_answer, true_answer, context_used, score, exact_match, f1*.\n"
   ]
  },
  {
   "cell_type": "code",
   "execution_count": 8,
   "id": "9bb47575",
   "metadata": {},
   "outputs": [
    {
     "name": "stderr",
     "output_type": "stream",
     "text": [
      "100%|██████████| 50/50 [00:44<00:00,  1.13it/s]"
     ]
    },
    {
     "name": "stdout",
     "output_type": "stream",
     "text": [
      "Guardado ejemplos en: ../results/3_rag_qa/examples.csv\n",
      "EM medio: 0.720 | F1 medio: 0.871 | Tiempo: 44.2s\n"
     ]
    },
    {
     "name": "stderr",
     "output_type": "stream",
     "text": [
      "\n"
     ]
    }
   ],
   "source": [
    "K = 50  # puedes subir a 100 o más si tu PC lo permite\n",
    "sample = df_small.sample(n=min(K, len(df_small)), random_state=42)\n",
    "\n",
    "records = []\n",
    "t0 = time.time()\n",
    "for _, row in tqdm(sample.iterrows(), total=len(sample)):\n",
    "    q = row['question']\n",
    "    truth = row['answer_text']\n",
    "    best = answer_with_rag(q, k=3)\n",
    "    em = exact_match(best['answer'], truth)\n",
    "    f1 = f1_score_tokens(best['answer'], truth)\n",
    "    records.append({\n",
    "        'question': q,\n",
    "        'pred_answer': best['answer'],\n",
    "        'true_answer': truth,\n",
    "        'context_used': best['context'][:1000],\n",
    "        'score': best['score'],\n",
    "        'exact_match': em,\n",
    "        'f1': f1,\n",
    "        'timestamp': int(time.time())\n",
    "    })\n",
    "t1 = time.time()\n",
    "\n",
    "df_eval = pd.DataFrame(records)\n",
    "examples_path = '../results/3_rag_qa/examples.csv'\n",
    "df_eval.to_csv(examples_path, index=False, encoding='utf-8')\n",
    "print(f\"Guardado ejemplos en: {examples_path}\")\n",
    "\n",
    "em_mean = df_eval['exact_match'].mean()\n",
    "f1_mean = df_eval['f1'].mean()\n",
    "print(f\"EM medio: {em_mean:.3f} | F1 medio: {f1_mean:.3f} | Tiempo: {(t1-t0):.1f}s\")\n"
   ]
  },
  {
   "cell_type": "markdown",
   "id": "9aacd61e",
   "metadata": {},
   "source": [
    "## Resumen para `results/summary.csv`\n",
    "Agregamos una fila con métricas del RAG (**accuracy≈EM**, **F1**). En RAG no usamos *epochs/loss*.\n"
   ]
  },
  {
   "cell_type": "code",
   "execution_count": 9,
   "id": "260ef465",
   "metadata": {},
   "outputs": [
    {
     "name": "stdout",
     "output_type": "stream",
     "text": [
      "Actualizado: ../results/summary.csv\n"
     ]
    },
    {
     "data": {
      "text/html": [
       "<div>\n",
       "<style scoped>\n",
       "    .dataframe tbody tr th:only-of-type {\n",
       "        vertical-align: middle;\n",
       "    }\n",
       "\n",
       "    .dataframe tbody tr th {\n",
       "        vertical-align: top;\n",
       "    }\n",
       "\n",
       "    .dataframe thead th {\n",
       "        text-align: right;\n",
       "    }\n",
       "</style>\n",
       "<table border=\"1\" class=\"dataframe\">\n",
       "  <thead>\n",
       "    <tr style=\"text-align: right;\">\n",
       "      <th></th>\n",
       "      <th>model_name</th>\n",
       "      <th>notebook_name</th>\n",
       "      <th>test_accuracy</th>\n",
       "      <th>f1</th>\n",
       "      <th>test_loss</th>\n",
       "      <th>epochs</th>\n",
       "      <th>model_params</th>\n",
       "      <th>training_time</th>\n",
       "      <th>final_g_loss</th>\n",
       "      <th>final_d_loss</th>\n",
       "      <th>...</th>\n",
       "      <th>final_val_accuracy</th>\n",
       "      <th>final_training_loss</th>\n",
       "      <th>final_val_loss</th>\n",
       "      <th>timestamp</th>\n",
       "      <th>task</th>\n",
       "      <th>accuracy</th>\n",
       "      <th>loss</th>\n",
       "      <th>params</th>\n",
       "      <th>train_time_sec</th>\n",
       "      <th>notes</th>\n",
       "    </tr>\n",
       "  </thead>\n",
       "  <tbody>\n",
       "    <tr>\n",
       "      <th>0</th>\n",
       "      <td>fashion_mnist_cnn_baseline</td>\n",
       "      <td>1_cnn_classification</td>\n",
       "      <td>NaN</td>\n",
       "      <td>NaN</td>\n",
       "      <td>NaN</td>\n",
       "      <td>NaN</td>\n",
       "      <td>470122.0</td>\n",
       "      <td>NaN</td>\n",
       "      <td>NaN</td>\n",
       "      <td>NaN</td>\n",
       "      <td>...</td>\n",
       "      <td>0.9219</td>\n",
       "      <td>0.220919</td>\n",
       "      <td>0.212786</td>\n",
       "      <td>2025-10-05T17:56:07.985152</td>\n",
       "      <td>NaN</td>\n",
       "      <td>NaN</td>\n",
       "      <td>NaN</td>\n",
       "      <td>NaN</td>\n",
       "      <td>NaN</td>\n",
       "      <td>NaN</td>\n",
       "    </tr>\n",
       "    <tr>\n",
       "      <th>1</th>\n",
       "      <td>dcgan_celeba_64</td>\n",
       "      <td>2_dcgan_generation</td>\n",
       "      <td>NaN</td>\n",
       "      <td>NaN</td>\n",
       "      <td>7.941555</td>\n",
       "      <td>5.0</td>\n",
       "      <td>6342272.0</td>\n",
       "      <td>1725.872513</td>\n",
       "      <td>7.941555</td>\n",
       "      <td>0.604401</td>\n",
       "      <td>...</td>\n",
       "      <td>NaN</td>\n",
       "      <td>NaN</td>\n",
       "      <td>NaN</td>\n",
       "      <td>NaN</td>\n",
       "      <td>NaN</td>\n",
       "      <td>NaN</td>\n",
       "      <td>NaN</td>\n",
       "      <td>NaN</td>\n",
       "      <td>NaN</td>\n",
       "      <td>NaN</td>\n",
       "    </tr>\n",
       "    <tr>\n",
       "      <th>2</th>\n",
       "      <td>lstm_imdb_tuned</td>\n",
       "      <td>4_lstm_text_imdb</td>\n",
       "      <td>NaN</td>\n",
       "      <td>NaN</td>\n",
       "      <td>NaN</td>\n",
       "      <td>NaN</td>\n",
       "      <td>2732993.0</td>\n",
       "      <td>NaN</td>\n",
       "      <td>NaN</td>\n",
       "      <td>NaN</td>\n",
       "      <td>...</td>\n",
       "      <td>0.8736</td>\n",
       "      <td>0.227659</td>\n",
       "      <td>0.311605</td>\n",
       "      <td>2025-10-05T19:14:40.008374</td>\n",
       "      <td>NaN</td>\n",
       "      <td>NaN</td>\n",
       "      <td>NaN</td>\n",
       "      <td>NaN</td>\n",
       "      <td>NaN</td>\n",
       "      <td>NaN</td>\n",
       "    </tr>\n",
       "    <tr>\n",
       "      <th>3</th>\n",
       "      <td>MiniLM + NearestNeighbors + roberta-base-squad2</td>\n",
       "      <td>NaN</td>\n",
       "      <td>NaN</td>\n",
       "      <td>0.870587</td>\n",
       "      <td>NaN</td>\n",
       "      <td>NaN</td>\n",
       "      <td>NaN</td>\n",
       "      <td>NaN</td>\n",
       "      <td>NaN</td>\n",
       "      <td>NaN</td>\n",
       "      <td>...</td>\n",
       "      <td>NaN</td>\n",
       "      <td>NaN</td>\n",
       "      <td>NaN</td>\n",
       "      <td>NaN</td>\n",
       "      <td>RAG-QA</td>\n",
       "      <td>0.72</td>\n",
       "      <td>None</td>\n",
       "      <td>{\"retriever\": \"all-MiniLM-L6-v2\", \"reader\": \"r...</td>\n",
       "      <td>None</td>\n",
       "      <td>RAG simple (SQuAD subset); ejemplos: results/3...</td>\n",
       "    </tr>\n",
       "  </tbody>\n",
       "</table>\n",
       "<p>4 rows × 26 columns</p>\n",
       "</div>"
      ],
      "text/plain": [
       "                                        model_name         notebook_name  \\\n",
       "0                       fashion_mnist_cnn_baseline  1_cnn_classification   \n",
       "1                                  dcgan_celeba_64    2_dcgan_generation   \n",
       "2                                  lstm_imdb_tuned      4_lstm_text_imdb   \n",
       "3  MiniLM + NearestNeighbors + roberta-base-squad2                   NaN   \n",
       "\n",
       "   test_accuracy        f1  test_loss  epochs  model_params  training_time  \\\n",
       "0            NaN       NaN        NaN     NaN      470122.0            NaN   \n",
       "1            NaN       NaN   7.941555     5.0     6342272.0    1725.872513   \n",
       "2            NaN       NaN        NaN     NaN     2732993.0            NaN   \n",
       "3            NaN  0.870587        NaN     NaN           NaN            NaN   \n",
       "\n",
       "   final_g_loss  final_d_loss  ...  final_val_accuracy  final_training_loss  \\\n",
       "0           NaN           NaN  ...              0.9219             0.220919   \n",
       "1      7.941555      0.604401  ...                 NaN                  NaN   \n",
       "2           NaN           NaN  ...              0.8736             0.227659   \n",
       "3           NaN           NaN  ...                 NaN                  NaN   \n",
       "\n",
       "   final_val_loss                   timestamp    task  accuracy  loss  \\\n",
       "0        0.212786  2025-10-05T17:56:07.985152     NaN       NaN   NaN   \n",
       "1             NaN                         NaN     NaN       NaN   NaN   \n",
       "2        0.311605  2025-10-05T19:14:40.008374     NaN       NaN   NaN   \n",
       "3             NaN                         NaN  RAG-QA      0.72  None   \n",
       "\n",
       "                                              params  train_time_sec  \\\n",
       "0                                                NaN             NaN   \n",
       "1                                                NaN             NaN   \n",
       "2                                                NaN             NaN   \n",
       "3  {\"retriever\": \"all-MiniLM-L6-v2\", \"reader\": \"r...            None   \n",
       "\n",
       "                                               notes  \n",
       "0                                                NaN  \n",
       "1                                                NaN  \n",
       "2                                                NaN  \n",
       "3  RAG simple (SQuAD subset); ejemplos: results/3...  \n",
       "\n",
       "[4 rows x 26 columns]"
      ]
     },
     "execution_count": 9,
     "metadata": {},
     "output_type": "execute_result"
    }
   ],
   "source": [
    "summary_path = '../results/summary.csv'\n",
    "summary_row = {\n",
    "    'task': 'RAG-QA',\n",
    "    'model_name': 'MiniLM + NearestNeighbors + roberta-base-squad2',\n",
    "    'accuracy': float(df_eval['exact_match'].mean()),\n",
    "    'f1': float(df_eval['f1'].mean()),\n",
    "    'loss': None,\n",
    "    'epochs': None,\n",
    "    'params': json.dumps({'retriever': 'all-MiniLM-L6-v2', 'reader': 'roberta-base-squad2', 'k': 3}),\n",
    "    'train_time_sec': None,\n",
    "    'notes': 'RAG simple (SQuAD subset); ejemplos: results/3_rag_qa/examples.csv'\n",
    "}\n",
    "\n",
    "if os.path.exists(summary_path):\n",
    "    df_sum = pd.read_csv(summary_path)\n",
    "    df_sum = pd.concat([df_sum, pd.DataFrame([summary_row])], ignore_index=True)\n",
    "else:\n",
    "    df_sum = pd.DataFrame([summary_row])\n",
    "\n",
    "df_sum.to_csv(summary_path, index=False, encoding='utf-8')\n",
    "print(f\"Actualizado: {summary_path}\")\n",
    "df_sum.tail(5)"
   ]
  },
  {
   "cell_type": "markdown",
   "id": "cd9c0bd0",
   "metadata": {},
   "source": [
    "## Visualización rápida (histograma de F1)\n",
    "Gráfico sencillo para mostrar distribución de F1.\n"
   ]
  },
  {
   "cell_type": "code",
   "execution_count": 10,
   "id": "afac01d2",
   "metadata": {},
   "outputs": [
    {
     "data": {
      "image/png": "[encoded data removed]",
      "text/plain": [
       "<Figure size 640x480 with 1 Axes>"
      ]
     },
     "metadata": {},
     "output_type": "display_data"
    }
   ],
   "source": [
    "import matplotlib.pyplot as plt\n",
    "\n",
    "plt.figure()\n",
    "df_eval['f1'].hist(bins=20)\n",
    "plt.title('Distribución de F1')\n",
    "plt.xlabel('F1')\n",
    "plt.ylabel('Frecuencia')\n",
    "plt.show()"
   ]
  }
 ],
 "metadata": {
  "kernelspec": {
   "display_name": "ml-portfolio-env",
   "language": "python",
   "name": "python3"
  },
  "language_info": {
   "codemirror_mode": {
    "name": "ipython",
    "version": 3
   },
   "file_extension": ".py",
   "mimetype": "text/x-python",
   "name": "python",
   "nbconvert_exporter": "python",
   "pygments_lexer": "ipython3",
   "version": "3.10.1"
  }
 },
 "nbformat": 4,
 "nbformat_minor": 5
}
