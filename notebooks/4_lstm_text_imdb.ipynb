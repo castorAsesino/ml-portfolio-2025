{
 "cells": [
  {
   "cell_type": "markdown",
   "id": "4ca2f234",
   "metadata": {},
   "source": [
    "# 4 — LSTM (Texto secuencial, word-level) con IMDB\n",
    "**Portfolio ML — Ejercicio LSTM (secuencias)**  "
   ]
  },
  {
   "cell_type": "code",
   "execution_count": 12,
   "id": "8a19bdf6",
   "metadata": {},
   "outputs": [
    {
     "name": "stdout",
     "output_type": "stream",
     "text": [
      "============================================================\n",
      "PROYECTO LSTM_IMDB_TUNED LSTM_IMDB_TUNED\n",
      "Silvia Sandoval - Portfolio Machine Learning\n",
      "============================================================\n",
      "Notebook: 4_lstm_text_imdb\n"
     ]
    }
   ],
   "source": [
    "import os, sys, pathlib, numpy as np\n",
    "from sklearn.metrics import f1_score, accuracy_score\n",
    "sys.path.append('../src')  \n",
    "from utils import save_training_results, save_summary_csv, plot_training_history, plot_confusion_matrix, print_welcome_message\n",
    "from lstm_data import IMDBData\n",
    "from lstm_train import TextTrainer, TrainConfig\n",
    "import importlib, lstm_models\n",
    "importlib.reload(lstm_models)\n",
    "from lstm_models import create_lstm_text_model\n",
    "\n",
    "\n",
    "# Configuración específica del notebook\n",
    "NOTEBOOK_NAME = \"4_lstm_text_imdb\"\n",
    "MODEL_NAME = \"lstm_imdb_tuned\"\n",
    "print_welcome_message(f\"lstm_imdb_tuned {MODEL_NAME}\")\n",
    "print(f\"Notebook: {NOTEBOOK_NAME}\")"
   ]
  },
  {
   "cell_type": "markdown",
   "id": "28c2f7e2",
   "metadata": {},
   "source": [
    "## 1) Carga y preparación de los datos (IMDB)"
   ]
  },
  {
   "cell_type": "code",
   "execution_count": 13,
   "id": "4a442a66",
   "metadata": {},
   "outputs": [
    {
     "name": "stdout",
     "output_type": "stream",
     "text": [
      "x_tr: (20000, 256) x_val: (5000, 256) x_test: (25000, 256)\n",
      "Clases: ['negativo', 'positivo']\n"
     ]
    }
   ],
   "source": [
    "\n",
    "data = IMDBData(num_words=20000, maxlen=256, random_state=42)\n",
    "\n",
    "(x_tr, y_tr), (x_val, y_val), (x_test, y_test) = data.load_data_with_val(val_size=0.2)\n",
    "\n",
    "print(\"x_tr:\", x_tr.shape, \"x_val:\", x_val.shape, \"x_test:\", x_test.shape)\n",
    "print(\"Clases:\", data.get_class_names())\n",
    "\n"
   ]
  },
  {
   "cell_type": "markdown",
   "id": "c95de3f1",
   "metadata": {},
   "source": [
    "## 2) Definición del modelo LSTM"
   ]
  },
  {
   "cell_type": "code",
   "execution_count": 14,
   "id": "ba4c8fdf",
   "metadata": {},
   "outputs": [
    {
     "name": "stderr",
     "output_type": "stream",
     "text": [
      "c:\\Users\\seneyda\\Downloads\\ml-portfolio-2025\\ml-portfolio-env\\lib\\site-packages\\keras\\src\\layers\\core\\embedding.py:97: UserWarning: Argument `input_length` is deprecated. Just remove it.\n",
      "  warnings.warn(\n"
     ]
    },
    {
     "data": {
      "text/html": [
       "<pre style=\"white-space:pre;overflow-x:auto;line-height:normal;font-family:Menlo,'DejaVu Sans Mono',consolas,'Courier New',monospace\"><span style=\"font-weight: bold\">Model: \"sequential_2\"</span>\n",
       "</pre>\n"
      ],
      "text/plain": [
       "\u001b[1mModel: \"sequential_2\"\u001b[0m\n"
      ]
     },
     "metadata": {},
     "output_type": "display_data"
    },
    {
     "data": {
      "text/html": [
       "<pre style=\"white-space:pre;overflow-x:auto;line-height:normal;font-family:Menlo,'DejaVu Sans Mono',consolas,'Courier New',monospace\">┏━━━━━━━━━━━━━━━━━━━━━━━━━━━━━━━━━┳━━━━━━━━━━━━━━━━━━━━━━━━┳━━━━━━━━━━━━━━━┓\n",
       "┃<span style=\"font-weight: bold\"> Layer (type)                    </span>┃<span style=\"font-weight: bold\"> Output Shape           </span>┃<span style=\"font-weight: bold\">       Param # </span>┃\n",
       "┡━━━━━━━━━━━━━━━━━━━━━━━━━━━━━━━━━╇━━━━━━━━━━━━━━━━━━━━━━━━╇━━━━━━━━━━━━━━━┩\n",
       "│ embedding_2 (<span style=\"color: #0087ff; text-decoration-color: #0087ff\">Embedding</span>)         │ ?                      │   <span style=\"color: #00af00; text-decoration-color: #00af00\">0</span> (unbuilt) │\n",
       "├─────────────────────────────────┼────────────────────────┼───────────────┤\n",
       "│ spatial_dropout1d_2             │ ?                      │             <span style=\"color: #00af00; text-decoration-color: #00af00\">0</span> │\n",
       "│ (<span style=\"color: #0087ff; text-decoration-color: #0087ff\">SpatialDropout1D</span>)              │                        │               │\n",
       "├─────────────────────────────────┼────────────────────────┼───────────────┤\n",
       "│ bidirectional_2 (<span style=\"color: #0087ff; text-decoration-color: #0087ff\">Bidirectional</span>) │ ?                      │   <span style=\"color: #00af00; text-decoration-color: #00af00\">0</span> (unbuilt) │\n",
       "├─────────────────────────────────┼────────────────────────┼───────────────┤\n",
       "│ dropout_2 (<span style=\"color: #0087ff; text-decoration-color: #0087ff\">Dropout</span>)             │ ?                      │             <span style=\"color: #00af00; text-decoration-color: #00af00\">0</span> │\n",
       "├─────────────────────────────────┼────────────────────────┼───────────────┤\n",
       "│ dense_2 (<span style=\"color: #0087ff; text-decoration-color: #0087ff\">Dense</span>)                 │ ?                      │   <span style=\"color: #00af00; text-decoration-color: #00af00\">0</span> (unbuilt) │\n",
       "└─────────────────────────────────┴────────────────────────┴───────────────┘\n",
       "</pre>\n"
      ],
      "text/plain": [
       "┏━━━━━━━━━━━━━━━━━━━━━━━━━━━━━━━━━┳━━━━━━━━━━━━━━━━━━━━━━━━┳━━━━━━━━━━━━━━━┓\n",
       "┃\u001b[1m \u001b[0m\u001b[1mLayer (type)                   \u001b[0m\u001b[1m \u001b[0m┃\u001b[1m \u001b[0m\u001b[1mOutput Shape          \u001b[0m\u001b[1m \u001b[0m┃\u001b[1m \u001b[0m\u001b[1m      Param #\u001b[0m\u001b[1m \u001b[0m┃\n",
       "┡━━━━━━━━━━━━━━━━━━━━━━━━━━━━━━━━━╇━━━━━━━━━━━━━━━━━━━━━━━━╇━━━━━━━━━━━━━━━┩\n",
       "│ embedding_2 (\u001b[38;5;33mEmbedding\u001b[0m)         │ ?                      │   \u001b[38;5;34m0\u001b[0m (unbuilt) │\n",
       "├─────────────────────────────────┼────────────────────────┼───────────────┤\n",
       "│ spatial_dropout1d_2             │ ?                      │             \u001b[38;5;34m0\u001b[0m │\n",
       "│ (\u001b[38;5;33mSpatialDropout1D\u001b[0m)              │                        │               │\n",
       "├─────────────────────────────────┼────────────────────────┼───────────────┤\n",
       "│ bidirectional_2 (\u001b[38;5;33mBidirectional\u001b[0m) │ ?                      │   \u001b[38;5;34m0\u001b[0m (unbuilt) │\n",
       "├─────────────────────────────────┼────────────────────────┼───────────────┤\n",
       "│ dropout_2 (\u001b[38;5;33mDropout\u001b[0m)             │ ?                      │             \u001b[38;5;34m0\u001b[0m │\n",
       "├─────────────────────────────────┼────────────────────────┼───────────────┤\n",
       "│ dense_2 (\u001b[38;5;33mDense\u001b[0m)                 │ ?                      │   \u001b[38;5;34m0\u001b[0m (unbuilt) │\n",
       "└─────────────────────────────────┴────────────────────────┴───────────────┘\n"
      ]
     },
     "metadata": {},
     "output_type": "display_data"
    },
    {
     "data": {
      "text/html": [
       "<pre style=\"white-space:pre;overflow-x:auto;line-height:normal;font-family:Menlo,'DejaVu Sans Mono',consolas,'Courier New',monospace\"><span style=\"font-weight: bold\"> Total params: </span><span style=\"color: #00af00; text-decoration-color: #00af00\">0</span> (0.00 B)\n",
       "</pre>\n"
      ],
      "text/plain": [
       "\u001b[1m Total params: \u001b[0m\u001b[38;5;34m0\u001b[0m (0.00 B)\n"
      ]
     },
     "metadata": {},
     "output_type": "display_data"
    },
    {
     "data": {
      "text/html": [
       "<pre style=\"white-space:pre;overflow-x:auto;line-height:normal;font-family:Menlo,'DejaVu Sans Mono',consolas,'Courier New',monospace\"><span style=\"font-weight: bold\"> Trainable params: </span><span style=\"color: #00af00; text-decoration-color: #00af00\">0</span> (0.00 B)\n",
       "</pre>\n"
      ],
      "text/plain": [
       "\u001b[1m Trainable params: \u001b[0m\u001b[38;5;34m0\u001b[0m (0.00 B)\n"
      ]
     },
     "metadata": {},
     "output_type": "display_data"
    },
    {
     "data": {
      "text/html": [
       "<pre style=\"white-space:pre;overflow-x:auto;line-height:normal;font-family:Menlo,'DejaVu Sans Mono',consolas,'Courier New',monospace\"><span style=\"font-weight: bold\"> Non-trainable params: </span><span style=\"color: #00af00; text-decoration-color: #00af00\">0</span> (0.00 B)\n",
       "</pre>\n"
      ],
      "text/plain": [
       "\u001b[1m Non-trainable params: \u001b[0m\u001b[38;5;34m0\u001b[0m (0.00 B)\n"
      ]
     },
     "metadata": {},
     "output_type": "display_data"
    }
   ],
   "source": [
    "model = create_lstm_text_model(\n",
    "    vocab_size=data.vocab_size(),\n",
    "    maxlen=256,\n",
    "    embed_dim=128,\n",
    "    lstm_units=96,\n",
    "    bidirectional=True,\n",
    "    dropout=0.5,\n",
    "    recurrent_dropout=0.25,\n",
    "    spatial_dropout=0.2\n",
    ")\n",
    "model.summary()\n"
   ]
  },
  {
   "cell_type": "markdown",
   "id": "f9fcfb5b",
   "metadata": {},
   "source": [
    "## 3) Entrenamiento del modelo"
   ]
  },
  {
   "cell_type": "code",
   "execution_count": null,
   "id": "2f69fa70",
   "metadata": {},
   "outputs": [
    {
     "name": "stdout",
     "output_type": "stream",
     "text": [
      "Epoch 1/5\n",
      "\u001b[1m157/157\u001b[0m \u001b[32m━━━━━━━━━━━━━━━━━━━━\u001b[0m\u001b[37m\u001b[0m \u001b[1m0s\u001b[0m 8s/step - accuracy: 0.5696 - loss: 0.6747\n",
      "Epoch 1: val_accuracy improved from None to 0.83160, saving model to results/lstm_imdb_best.h5\n"
     ]
    },
    {
     "name": "stderr",
     "output_type": "stream",
     "text": [
      "WARNING:absl:You are saving your model as an HDF5 file via `model.save()` or `keras.saving.save_model(model)`. This file format is considered legacy. We recommend using instead the native Keras format, e.g. `model.save('my_model.keras')` or `keras.saving.save_model(model, 'my_model.keras')`. \n"
     ]
    },
    {
     "name": "stdout",
     "output_type": "stream",
     "text": [
      "\u001b[1m157/157\u001b[0m \u001b[32m━━━━━━━━━━━━━━━━━━━━\u001b[0m\u001b[37m\u001b[0m \u001b[1m1309s\u001b[0m 8s/step - accuracy: 0.6477 - loss: 0.6257 - val_accuracy: 0.8316 - val_loss: 0.4212 - learning_rate: 5.0000e-04\n",
      "Epoch 2/5\n",
      "\u001b[1m157/157\u001b[0m \u001b[32m━━━━━━━━━━━━━━━━━━━━\u001b[0m\u001b[37m\u001b[0m \u001b[1m0s\u001b[0m 7s/step - accuracy: 0.8069 - loss: 0.4572\n",
      "Epoch 2: val_accuracy did not improve from 0.83160\n",
      "\u001b[1m157/157\u001b[0m \u001b[32m━━━━━━━━━━━━━━━━━━━━\u001b[0m\u001b[37m\u001b[0m \u001b[1m1079s\u001b[0m 7s/step - accuracy: 0.8144 - loss: 0.4414 - val_accuracy: 0.8316 - val_loss: 0.3855 - learning_rate: 5.0000e-04\n",
      "Epoch 3/5\n",
      "\u001b[1m157/157\u001b[0m \u001b[32m━━━━━━━━━━━━━━━━━━━━\u001b[0m\u001b[37m\u001b[0m \u001b[1m0s\u001b[0m 8s/step - accuracy: 0.8700 - loss: 0.3413\n",
      "Epoch 3: val_accuracy improved from 0.83160 to 0.87040, saving model to results/lstm_imdb_best.h5\n"
     ]
    },
    {
     "name": "stderr",
     "output_type": "stream",
     "text": [
      "WARNING:absl:You are saving your model as an HDF5 file via `model.save()` or `keras.saving.save_model(model)`. This file format is considered legacy. We recommend using instead the native Keras format, e.g. `model.save('my_model.keras')` or `keras.saving.save_model(model, 'my_model.keras')`. \n"
     ]
    },
    {
     "name": "stdout",
     "output_type": "stream",
     "text": [
      "\u001b[1m157/157\u001b[0m \u001b[32m━━━━━━━━━━━━━━━━━━━━\u001b[0m\u001b[37m\u001b[0m \u001b[1m1336s\u001b[0m 9s/step - accuracy: 0.8752 - loss: 0.3288 - val_accuracy: 0.8704 - val_loss: 0.3229 - learning_rate: 5.0000e-04\n",
      "Epoch 4/5\n",
      "\u001b[1m133/157\u001b[0m \u001b[32m━━━━━━━━━━━━━━━━\u001b[0m\u001b[37m━━━━\u001b[0m \u001b[1m2:17\u001b[0m 6s/step - accuracy: 0.9051 - loss: 0.2670"
     ]
    }
   ],
   "source": [
    "cfg = TrainConfig(\n",
    "    epochs=5,          \n",
    "    batch_size=128,\n",
    "    lr=5e-4           \n",
    ")\n",
    "trainer = TextTrainer(model, MODEL_NAME, cfg)\n",
    "trainer.compile()\n",
    "history = trainer.train(x_tr, y_tr, x_val, y_val)\n",
    "plot_training_history(history, NOTEBOOK_NAME, MODEL_NAME)"
   ]
  },
  {
   "cell_type": "code",
   "execution_count": 6,
   "id": "1ffa038e",
   "metadata": {},
   "outputs": [
    {
     "name": "stdout",
     "output_type": "stream",
     "text": [
      "Mejor threshold en validación: 0.520 | F1_val: 0.8710\n"
     ]
    }
   ],
   "source": [
    "#Sintonización del threshold en validación\n",
    "best_thr, best_f1_val = trainer.tune_threshold(x_val, y_val)\n",
    "print(f\"Mejor threshold en validación: {best_thr:.3f} | F1_val: {best_f1_val:.4f}\")\n"
   ]
  },
  {
   "cell_type": "markdown",
   "id": "e9321427",
   "metadata": {},
   "source": [
    "## 4) Evaluación + Guardado de resultados (summary.csv)"
   ]
  },
  {
   "cell_type": "code",
   "execution_count": 7,
   "id": "db4c89cc",
   "metadata": {},
   "outputs": [
    {
     "name": "stdout",
     "output_type": "stream",
     "text": [
      "Test Accuracy: 0.8568\n",
      "Test Loss:     0.3587\n",
      "Test F1:       0.8611\n",
      "Params:        2732993\n",
      "Resultados guardados en: ../results/2_lstm_text_imdb/training_results.json\n",
      "Métricas añadidas al summary general: ../results/summary.csv\n"
     ]
    }
   ],
   "source": [
    "test_loss, _ = trainer.evaluate(x_test, y_test)\n",
    "\n",
    "y_pred = trainer.predict_labels(x_test, threshold=best_thr)\n",
    "test_acc = accuracy_score(y_test, y_pred)\n",
    "test_f1  = f1_score(y_test, y_pred, average=\"binary\")\n",
    "\n",
    "print(f\"Test Accuracy: {test_acc:.4f}\")\n",
    "print(f\"Test Loss:     {test_loss:.4f}\")\n",
    "print(f\"Test F1:       {test_f1:.4f}\")\n",
    "print(f\"Params:        {trainer.count_params()}\")\n",
    "\n",
    "results = save_training_results(\n",
    "    history=history,\n",
    "    test_accuracy=test_acc,\n",
    "    test_loss=test_loss,\n",
    "    f1=test_f1,\n",
    "    model_name=MODEL_NAME,\n",
    "    notebook_name=NOTEBOOK_NAME,\n",
    "    training_time=trainer.get_training_time(),\n",
    "    model_params=trainer.count_params()\n",
    ")\n",
    "save_summary_csv(results, NOTEBOOK_NAME)\n",
    "\n"
   ]
  },
  {
   "cell_type": "markdown",
   "id": "d954a760",
   "metadata": {},
   "source": [
    "## 5) Matriz de confusión"
   ]
  },
  {
   "cell_type": "code",
   "execution_count": 8,
   "id": "30181ea1",
   "metadata": {},
   "outputs": [
    {
     "data": {
      "image/png": "[encoded data removed]",
      "text/plain": [
       "<Figure size 1000x800 with 2 Axes>"
      ]
     },
     "metadata": {},
     "output_type": "display_data"
    },
    {
     "name": "stdout",
     "output_type": "stream",
     "text": [
      "Matriz de confusión guardada en: ../results/2_lstm_text_imdb/confusion_matrix.png\n",
      "\n",
      "================================================================================\n",
      "EJEMPLOS BUENOS (alta confianza & correctos)\n",
      "================================================================================\n",
      "[i=15004] true=0 | pred=0 | proba=0.016\n",
      "<START> awful awful awful show real world issues dealt with blatant <UNK> stereotypes galore what the hell is going on with the african american black guys eyebrows tyrone power awful awful awful awful awful show the fact that it lasted three seasons beggars belief this show truly is swill for the brain dead of mediocrity br br saved by the bell almost seemed humorous compared to this well upon hindsight no it's of the same banal ilk and therefore equally devoid of intelligence the only thing that it's missing so far is the jesus is god message the mentality and deliverance is the same yet somehow feels evil and soulless you can almost hear the tv executives buzz words at each other in fact i felt so <UNK> at this shows existence i felt compelled to comment br br awful awful awful show\n",
      "--------------------------------------------------------------------------------\n",
      "[i=11730] true=0 | pred=0 | proba=0.017\n",
      "<START> yet again not quite bad enough to make it enjoyable in fact this one is just boring it's reasonably well made even though the script is bad the effects are ok and the acting average apart from james mason who is always great but in this one underused br br i suppose it is hard to write anything about this film because it didn't evoke any reaction in me what so ever br br dull dull dull dull dull\n",
      "--------------------------------------------------------------------------------\n",
      "[i=14384] true=0 | pred=0 | proba=0.017\n",
      "<START> this movie is pathetic in every way possible bad acting horrible script was there one terrible editing lousy cinematography cheap humor just plain horrible br br i had seen 'the a couple weeks before this movie and i thought it was a dead ringer for worst movie of the year then i saw 'the and suddenly 'the didn't seem so bad at all br br bad bad bad excruciatingly bad\n",
      "--------------------------------------------------------------------------------\n",
      "[i=8205] true=1 | pred=1 | proba=0.982\n",
      "<START> this is definitely an outstanding 1944 musical with great young stars and famous veteran actors under the direction of charles vidor rita hayworth rusty parker charlie chan in egypt sang and danced with gene kelly danny mcguire anchors away danny mcguire owned a night club in brooklyn n y and was in love with rusty parker who was a dancer in his club along with phil silvers genius <UNK> island who was the comedian in this picture and also worked and dance together with danny rusty otto kruger john duel in the sun played the role as a promoter of a cover girl magazine and decided rusty parker was going to be his top model jerome music is heard through out the entire picture and the song long ago far away is the theme music for this musical this film was nominated for many awards and...\n",
      "--------------------------------------------------------------------------------\n",
      "[i=7541] true=1 | pred=1 | proba=0.981\n",
      "<START> superb editing outstanding acting especially by and highly enjoyable musical soundtrack this film reaches back to the 40's to comment on the racial lifestyle differences and some effect of <UNK> while it weaves the true story of a truly admirable and fantastic lady br br the actor portraying the young <UNK> howard character does a wonderful job reflecting the life and times of his upbringing in the small upstate new york town the audience laughed cried and <UNK> in applause for the film and its director br br soon to be shown on hbo <UNK> 7 i believe fire up the tivo and enjoy a great story\n",
      "--------------------------------------------------------------------------------\n",
      "\n",
      "================================================================================\n",
      "EJEMPLOS MALOS (baja confianza & incorrectos)\n",
      "================================================================================\n",
      "[i=2513] true=1 | pred=0 | proba=0.500\n",
      "<START> it takes a lot for a movie to reach the already numb particles of my brain which have not already been tapped out due to the and world of movies but this movie has made it onto my <UNK> movies' list to become a <UNK> movie' it must leave every string of my being quivering in that which i can only define as and this movie has tapped into the <UNK> of how my mind thinks and if not for the deeply personal bond my head and the head of whoever made this shares it would look like another <UNK> rave <UNK> movie from back when the 90's exploded with its ecstasy craze this is not how the movie came off to me at all it's reached into me and pulled up something that i thought was dead for a very long time and pushed me as far as to give it a critique of my own i forgot how long it's been sinc...\n",
      "--------------------------------------------------------------------------------\n",
      "[i=12867] true=1 | pred=0 | proba=0.500\n",
      "<START> i saw this film on at the <UNK> film festival br br the <UNK> only in a couple of short flashbacks the whole thing is about <UNK> life from to <UNK> when he was <UNK> in kent with his growing family 200 pages of origin had already been drafted and he was wondering whether to complete the book br br the script is based on book <UNK> box annie <UNK> daughter died when she was 10 it is mostly a family drama but does include sex scenes however the participants are married both on and off screen not too exciting not much science but a well made film that's pleasant to watch and pushes the right emotional buttons a bit of a romantic <UNK> actually i suppose the conclusion is that you can be an <UNK> free thinking scientist from an atheist family background and still be an emotional roman...\n",
      "--------------------------------------------------------------------------------\n",
      "[i=1767] true=1 | pred=0 | proba=0.500\n",
      "<START> well on the day that rob schneider plunges himself further into the black hole of notoriously bad movies by starring in the absolutely not at all wanted <UNK> <UNK> european gigolo hmmmm wasn't there a film called <UNK> which was followed by a sequel called and now there's <UNK> <UNK> male gigolo followed by sequel <UNK> <UNK> european gigolo i smell a pattern perhaps soon there will be spiderman european <UNK> are hotter or not i am writing about this much maligned at time of release film i was one of those i must admit i turned my nose up at it even while chris <UNK> shoved cocaine up his nose and the snl cast struggled through one of the worst seasons in their history in <UNK> <UNK> the norm mcdonald notwithstanding films like happy <UNK> tommy boy and black sheep came out in th...\n",
      "--------------------------------------------------------------------------------\n",
      "[i=8087] true=1 | pred=0 | proba=0.500\n",
      "<START> now this is the sort of film we used to get weekly now a days it is rare to see a drama that depends on the cast talking to each other br br there are no explosions car chases or any chases there are implied sexual situations this is not film for the younger crowd it is for those that appreciate people talking to each other they do argue a lot as we have married couple having mid life problems br br emily watson tom <UNK> are seemingly a very happy middle aged loving man wife now living in this same small london suburb handsome rupert everett returns home to visit his wealthy father br br he of course meets emily watson it would be easy for anyone to be smitten by emily i say no more except that as the credits begin there is a fatal accident the rest of the film is about the reperc...\n",
      "--------------------------------------------------------------------------------\n",
      "[i=8088] true=1 | pred=0 | proba=0.500\n",
      "<START> from the first to the last scene this film is made very realistically even too realistically that sometimes we can't see details in night scenes it's dark as real night in the desert sunshine is so strong as in real desert br br script and actor's play are also very realistic shots and episodes are edited not to show things and events effectively to explain them or as many hollywood films do to entertain viewers editing here is to represent the events as if they really happened in <UNK> camera is set sometimes far from dying <UNK> even the moment when the main character major is shot and killed br br such method reminds me of masterpieces of italian neo realism and the construction of the story here is based on the same principles as or the bicycle thief chronological series of tru...\n",
      "--------------------------------------------------------------------------------\n"
     ]
    }
   ],
   "source": [
    "plot_confusion_matrix(\n",
    "    y_true=y_test,\n",
    "    y_pred=y_pred,\n",
    "    class_names=data.get_class_names(),\n",
    "    notebook_name=NOTEBOOK_NAME,\n",
    "    model_name=MODEL_NAME\n",
    ")\n",
    "probs = trainer.predict_proba(x_test)\n",
    "conf = np.abs(probs - 0.5) * 2\n",
    "\n",
    "correct = np.where(y_pred == y_test)[0]\n",
    "wrong   = np.where(y_pred != y_test)[0]\n",
    "\n",
    "good_idx = correct[np.argsort(-conf[correct])[:5]]\n",
    "bad_idx  = wrong[np.argsort(conf[wrong])[:5]]\n",
    "\n",
    "def show_examples(idx_list, title):\n",
    "    print(\"\\n\" + \"=\"*80)\n",
    "    print(title)\n",
    "    print(\"=\"*80)\n",
    "    for i in idx_list:\n",
    "        txt = (data.decode_review(x_test[i]) if hasattr(data, \"decode_review\") else str(x_test[i]))[:800]\n",
    "        print(f\"[i={i}] true={y_test[i]} | pred={y_pred[i]} | proba={probs[i]:.3f}\")\n",
    "        print(txt + (\"...\" if len(txt) >= 800 else \"\"))\n",
    "        print(\"-\"*80)\n",
    "\n",
    "show_examples(good_idx, \"EJEMPLOS BUENOS (alta confianza & correctos)\")\n",
    "show_examples(bad_idx,  \"EJEMPLOS MALOS (baja confianza & incorrectos)\")\n"
   ]
  },
  {
   "cell_type": "code",
   "execution_count": 10,
   "id": "9f117cb2",
   "metadata": {},
   "outputs": [
    {
     "name": "stdout",
     "output_type": "stream",
     "text": [
      "\n",
      "================================================================================\n",
      "EJEMPLOS BUENOS (alta confianza & correctos)\n",
      "================================================================================\n",
      "[i=15004] true=0 | pred=0 | proba=0.016\n",
      "<START> awful awful awful show real world issues dealt with blatant <UNK> stereotypes galore what the hell is going on with the african american black guys eyebrows tyrone power awful awful awful awful awful show the fact that it lasted three seasons beggars belief this show truly is swill for the brain dead of mediocrity br br saved by the bell almost seemed humorous compared to this well upon hindsight no it's of the same banal ilk and therefore equally devoid of intelligence the only thing that it's missing so far is the jesus is god message the mentality and deliverance is the same yet somehow feels evil and soulless you can almost hear the tv executives buzz words at each other in fact i felt so <UNK> at this shows existence i felt compelled to comment br br awful awful awful show\n",
      "--------------------------------------------------------------------------------\n",
      "[i=11730] true=0 | pred=0 | proba=0.017\n",
      "<START> yet again not quite bad enough to make it enjoyable in fact this one is just boring it's reasonably well made even though the script is bad the effects are ok and the acting average apart from james mason who is always great but in this one underused br br i suppose it is hard to write anything about this film because it didn't evoke any reaction in me what so ever br br dull dull dull dull dull\n",
      "--------------------------------------------------------------------------------\n",
      "[i=14384] true=0 | pred=0 | proba=0.017\n",
      "<START> this movie is pathetic in every way possible bad acting horrible script was there one terrible editing lousy cinematography cheap humor just plain horrible br br i had seen 'the a couple weeks before this movie and i thought it was a dead ringer for worst movie of the year then i saw 'the and suddenly 'the didn't seem so bad at all br br bad bad bad excruciatingly bad\n",
      "--------------------------------------------------------------------------------\n",
      "[i=8205] true=1 | pred=1 | proba=0.982\n",
      "<START> this is definitely an outstanding 1944 musical with great young stars and famous veteran actors under the direction of charles vidor rita hayworth rusty parker charlie chan in egypt sang and danced with gene kelly danny mcguire anchors away danny mcguire owned a night club in brooklyn n y and was in love with rusty parker who was a dancer in his club along with phil silvers genius <UNK> island who was the comedian in this picture and also worked and dance together with danny rusty otto kruger john duel in the sun played the role as a promoter of a cover girl magazine and decided rusty parker was going to be his top model jerome music is heard through out the entire picture and the song long ago far away is the theme music for this musical this film was nominated for many awards and...\n",
      "--------------------------------------------------------------------------------\n",
      "[i=7541] true=1 | pred=1 | proba=0.981\n",
      "<START> superb editing outstanding acting especially by and highly enjoyable musical soundtrack this film reaches back to the 40's to comment on the racial lifestyle differences and some effect of <UNK> while it weaves the true story of a truly admirable and fantastic lady br br the actor portraying the young <UNK> howard character does a wonderful job reflecting the life and times of his upbringing in the small upstate new york town the audience laughed cried and <UNK> in applause for the film and its director br br soon to be shown on hbo <UNK> 7 i believe fire up the tivo and enjoy a great story\n",
      "--------------------------------------------------------------------------------\n",
      "\n",
      "================================================================================\n",
      "EJEMPLOS MALOS (baja confianza & incorrectos)\n",
      "================================================================================\n",
      "[i=2513] true=1 | pred=0 | proba=0.500\n",
      "<START> it takes a lot for a movie to reach the already numb particles of my brain which have not already been tapped out due to the and world of movies but this movie has made it onto my <UNK> movies' list to become a <UNK> movie' it must leave every string of my being quivering in that which i can only define as and this movie has tapped into the <UNK> of how my mind thinks and if not for the deeply personal bond my head and the head of whoever made this shares it would look like another <UNK> rave <UNK> movie from back when the 90's exploded with its ecstasy craze this is not how the movie came off to me at all it's reached into me and pulled up something that i thought was dead for a very long time and pushed me as far as to give it a critique of my own i forgot how long it's been sinc...\n",
      "--------------------------------------------------------------------------------\n",
      "[i=12867] true=1 | pred=0 | proba=0.500\n",
      "<START> i saw this film on at the <UNK> film festival br br the <UNK> only in a couple of short flashbacks the whole thing is about <UNK> life from to <UNK> when he was <UNK> in kent with his growing family 200 pages of origin had already been drafted and he was wondering whether to complete the book br br the script is based on book <UNK> box annie <UNK> daughter died when she was 10 it is mostly a family drama but does include sex scenes however the participants are married both on and off screen not too exciting not much science but a well made film that's pleasant to watch and pushes the right emotional buttons a bit of a romantic <UNK> actually i suppose the conclusion is that you can be an <UNK> free thinking scientist from an atheist family background and still be an emotional roman...\n",
      "--------------------------------------------------------------------------------\n",
      "[i=1767] true=1 | pred=0 | proba=0.500\n",
      "<START> well on the day that rob schneider plunges himself further into the black hole of notoriously bad movies by starring in the absolutely not at all wanted <UNK> <UNK> european gigolo hmmmm wasn't there a film called <UNK> which was followed by a sequel called and now there's <UNK> <UNK> male gigolo followed by sequel <UNK> <UNK> european gigolo i smell a pattern perhaps soon there will be spiderman european <UNK> are hotter or not i am writing about this much maligned at time of release film i was one of those i must admit i turned my nose up at it even while chris <UNK> shoved cocaine up his nose and the snl cast struggled through one of the worst seasons in their history in <UNK> <UNK> the norm mcdonald notwithstanding films like happy <UNK> tommy boy and black sheep came out in th...\n",
      "--------------------------------------------------------------------------------\n",
      "[i=8087] true=1 | pred=0 | proba=0.500\n",
      "<START> now this is the sort of film we used to get weekly now a days it is rare to see a drama that depends on the cast talking to each other br br there are no explosions car chases or any chases there are implied sexual situations this is not film for the younger crowd it is for those that appreciate people talking to each other they do argue a lot as we have married couple having mid life problems br br emily watson tom <UNK> are seemingly a very happy middle aged loving man wife now living in this same small london suburb handsome rupert everett returns home to visit his wealthy father br br he of course meets emily watson it would be easy for anyone to be smitten by emily i say no more except that as the credits begin there is a fatal accident the rest of the film is about the reperc...\n",
      "--------------------------------------------------------------------------------\n",
      "[i=8088] true=1 | pred=0 | proba=0.500\n",
      "<START> from the first to the last scene this film is made very realistically even too realistically that sometimes we can't see details in night scenes it's dark as real night in the desert sunshine is so strong as in real desert br br script and actor's play are also very realistic shots and episodes are edited not to show things and events effectively to explain them or as many hollywood films do to entertain viewers editing here is to represent the events as if they really happened in <UNK> camera is set sometimes far from dying <UNK> even the moment when the main character major is shot and killed br br such method reminds me of masterpieces of italian neo realism and the construction of the story here is based on the same principles as or the bicycle thief chronological series of tru...\n",
      "--------------------------------------------------------------------------------\n"
     ]
    }
   ],
   "source": [
    "# %% [examples]\n",
    "probs = trainer.predict_proba(x_test)\n",
    "conf = np.abs(probs - 0.5) * 2\n",
    "\n",
    "correct = np.where(y_pred == y_test)[0]\n",
    "wrong   = np.where(y_pred != y_test)[0]\n",
    "\n",
    "good_idx = correct[np.argsort(-conf[correct])[:5]]\n",
    "bad_idx  = wrong[np.argsort(conf[wrong])[:5]]\n",
    "\n",
    "def show_examples(idx_list, title):\n",
    "    print(\"\\n\" + \"=\"*80)\n",
    "    print(title)\n",
    "    print(\"=\"*80)\n",
    "    for i in idx_list:\n",
    "        txt = (data.decode_review(x_test[i]) if hasattr(data, \"decode_review\") else str(x_test[i]))[:800]\n",
    "        print(f\"[i={i}] true={y_test[i]} | pred={y_pred[i]} | proba={probs[i]:.3f}\")\n",
    "        print(txt + (\"...\" if len(txt) >= 800 else \"\"))\n",
    "        print(\"-\"*80)\n",
    "\n",
    "show_examples(good_idx, \"EJEMPLOS BUENOS (alta confianza & correctos)\")\n",
    "show_examples(bad_idx,  \"EJEMPLOS MALOS (baja confianza & incorrectos)\")\n"
   ]
  }
 ],
 "metadata": {
  "kernelspec": {
   "display_name": "ml-portfolio-env",
   "language": "python",
   "name": "python3"
  },
  "language_info": {
   "codemirror_mode": {
    "name": "ipython",
    "version": 3
   },
   "file_extension": ".py",
   "mimetype": "text/x-python",
   "name": "python",
   "nbconvert_exporter": "python",
   "pygments_lexer": "ipython3",
   "version": "3.10.1"
  }
 },
 "nbformat": 4,
 "nbformat_minor": 5
}
